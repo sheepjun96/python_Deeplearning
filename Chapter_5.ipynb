{
  "metadata": {
    "kernelspec": {
      "language": "python",
      "display_name": "Python 3",
      "name": "python3"
    },
    "language_info": {
      "name": "python",
      "version": "3.10.14",
      "mimetype": "text/x-python",
      "codemirror_mode": {
        "name": "ipython",
        "version": 3
      },
      "pygments_lexer": "ipython3",
      "nbconvert_exporter": "python",
      "file_extension": ".py"
    },
    "kaggle": {
      "accelerator": "none",
      "dataSources": [
        {
          "sourceId": 3972,
          "sourceType": "datasetVersion",
          "datasetId": 2363
        },
        {
          "sourceId": 57419,
          "sourceType": "datasetVersion",
          "datasetId": 37691
        },
        {
          "sourceId": 2085889,
          "sourceType": "datasetVersion",
          "datasetId": 1250649
        },
        {
          "sourceId": 2431805,
          "sourceType": "datasetVersion",
          "datasetId": 8782
        },
        {
          "sourceId": 193736149,
          "sourceType": "kernelVersion"
        }
      ],
      "dockerImageVersionId": 30761,
      "isInternetEnabled": false,
      "language": "python",
      "sourceType": "notebook",
      "isGpuEnabled": false
    },
    "colab": {
      "provenance": [],
      "name": "Chapter_5",
      "include_colab_link": true
    }
  },
  "nbformat_minor": 0,
  "nbformat": 4,
  "cells": [
    {
      "cell_type": "markdown",
      "metadata": {
        "id": "view-in-github",
        "colab_type": "text"
      },
      "source": [
        "<a href=\"https://colab.research.google.com/github/sheepjun96/python_Deeplearning/blob/main/Chapter_5.ipynb\" target=\"_parent\"><img src=\"https://colab.research.google.com/assets/colab-badge.svg\" alt=\"Open In Colab\"/></a>"
      ]
    },
    {
      "cell_type": "code",
      "source": [
        "%run ./mathutil.ipynb"
      ],
      "metadata": {
        "id": "4-FHrt0fhgLN"
      },
      "execution_count": 382,
      "outputs": []
    },
    {
      "cell_type": "code",
      "source": [
        "import numpy as np\n",
        "import time\n",
        "import os\n",
        "np.random.seed(1234)"
      ],
      "metadata": {
        "_uuid": "8f2839f25d086af736a60e9eeb907d3b93b6e0e5",
        "_cell_guid": "b1076dfc-b9ad-4769-8c92-a6c4dae69d19",
        "id": "zgwd-FVW2pIz",
        "execution": {
          "iopub.status.busy": "2024-08-23T13:37:02.71824Z",
          "iopub.execute_input": "2024-08-23T13:37:02.718786Z",
          "iopub.status.idle": "2024-08-23T13:37:02.727087Z",
          "shell.execute_reply.started": "2024-08-23T13:37:02.718736Z",
          "shell.execute_reply": "2024-08-23T13:37:02.725542Z"
        },
        "trusted": true
      },
      "execution_count": 383,
      "outputs": []
    },
    {
      "cell_type": "code",
      "source": [
        "class Model(object):\n",
        "    def __init__(self, name, dataset):\n",
        "        self.name = name\n",
        "        self.dataset = dataset\n",
        "        self.is_training = False\n",
        "        if not hasattr(self, 'rand_std'):  self.rand_std = 0.030\n",
        "\n",
        "    def __str__(self):\n",
        "        return f'{self.name}/{self.dataset}'\n",
        "\n",
        "    def exec_all(self, epoch_count=10, batch_size=10, learning_rate=0.001, report=0, show_cnt=3):\n",
        "        self.train(epoch_count, batch_size, learning_rate, report)\n",
        "        self.test()\n",
        "        if show_cnt > 0:  self.visualize(show_cnt)"
      ],
      "metadata": {
        "id": "DDxvH9zv2pI0",
        "execution": {
          "iopub.status.busy": "2024-08-23T13:37:02.729953Z",
          "iopub.execute_input": "2024-08-23T13:37:02.730432Z",
          "iopub.status.idle": "2024-08-23T13:37:02.74476Z",
          "shell.execute_reply.started": "2024-08-23T13:37:02.730376Z",
          "shell.execute_reply": "2024-08-23T13:37:02.743216Z"
        },
        "trusted": true
      },
      "execution_count": 384,
      "outputs": []
    },
    {
      "cell_type": "code",
      "source": [
        "class MlpModel(Model):\n",
        "    def __init__(self, name, dataset, hconfigs):\n",
        "        super(MlpModel, self).__init__(name, dataset)\n",
        "        self.init_parameters(hconfigs)"
      ],
      "metadata": {
        "id": "WLHuMY6Q2pI0",
        "execution": {
          "iopub.status.busy": "2024-08-23T13:37:02.746385Z",
          "iopub.execute_input": "2024-08-23T13:37:02.746841Z",
          "iopub.status.idle": "2024-08-23T13:37:02.758861Z",
          "shell.execute_reply.started": "2024-08-23T13:37:02.746797Z",
          "shell.execute_reply": "2024-08-23T13:37:02.757434Z"
        },
        "trusted": true
      },
      "execution_count": 385,
      "outputs": []
    },
    {
      "cell_type": "code",
      "source": [
        "def mlp_init_parameters(self, hconfigs):\n",
        "    self.hconfigs = hconfigs\n",
        "    self.pm_hiddens = []\n",
        "\n",
        "    prev_shape = self.dataset.input_shape\n",
        "\n",
        "    for hconfig in hconfigs:\n",
        "        pm_hidden, prev_shape = self.alloc_layer_param(prev_shape, hconfig)\n",
        "        self.pm_hiddens.append(pm_hidden)\n",
        "\n",
        "    output_cnt = int(np.prod(self.dataset.output_shape))\n",
        "    self.pm_output, _ = self.alloc_layer_param(prev_shape, output_cnt)"
      ],
      "metadata": {
        "id": "p7Bw0JnN2pI0",
        "execution": {
          "iopub.status.busy": "2024-08-23T13:37:02.762542Z",
          "iopub.execute_input": "2024-08-23T13:37:02.763973Z",
          "iopub.status.idle": "2024-08-23T13:37:02.774889Z",
          "shell.execute_reply.started": "2024-08-23T13:37:02.763902Z",
          "shell.execute_reply": "2024-08-23T13:37:02.773437Z"
        },
        "trusted": true
      },
      "execution_count": 386,
      "outputs": []
    },
    {
      "cell_type": "code",
      "source": [
        "def mlp_alloc_layer_param(self, input_shape, hconfig):\n",
        "    input_cnt = np.prod(input_shape)\n",
        "    output_cnt = hconfig\n",
        "\n",
        "    weight, bias = self.alloc_param_pair([input_cnt, output_cnt])\n",
        "\n",
        "    return {'w':weight, 'b':bias}, output_cnt"
      ],
      "metadata": {
        "id": "7Z6yBSPt2pI0",
        "execution": {
          "iopub.status.busy": "2024-08-23T13:37:02.776843Z",
          "iopub.execute_input": "2024-08-23T13:37:02.777257Z",
          "iopub.status.idle": "2024-08-23T13:37:02.787185Z",
          "shell.execute_reply.started": "2024-08-23T13:37:02.777213Z",
          "shell.execute_reply": "2024-08-23T13:37:02.785912Z"
        },
        "trusted": true
      },
      "execution_count": 387,
      "outputs": []
    },
    {
      "cell_type": "code",
      "source": [
        "def mlp_alloc_param_pair(self, shape):\n",
        "    weight = np.random.normal(0, self.rand_std, shape)\n",
        "    bias = np.zeros([shape[-1]])\n",
        "    return weight, bias"
      ],
      "metadata": {
        "id": "_bpMuqBf2pI1",
        "execution": {
          "iopub.status.busy": "2024-08-23T13:37:02.788851Z",
          "iopub.execute_input": "2024-08-23T13:37:02.789323Z",
          "iopub.status.idle": "2024-08-23T13:37:02.804763Z",
          "shell.execute_reply.started": "2024-08-23T13:37:02.789261Z",
          "shell.execute_reply": "2024-08-23T13:37:02.803435Z"
        },
        "trusted": true
      },
      "execution_count": 388,
      "outputs": []
    },
    {
      "cell_type": "code",
      "source": [
        "MlpModel.init_parameters = mlp_init_parameters\n",
        "MlpModel.alloc_layer_param = mlp_alloc_layer_param\n",
        "MlpModel.alloc_param_pair = mlp_alloc_param_pair"
      ],
      "metadata": {
        "id": "LAnwAA_k2pI1",
        "execution": {
          "iopub.status.busy": "2024-08-23T13:37:02.806193Z",
          "iopub.execute_input": "2024-08-23T13:37:02.806625Z",
          "iopub.status.idle": "2024-08-23T13:37:02.81799Z",
          "shell.execute_reply.started": "2024-08-23T13:37:02.806547Z",
          "shell.execute_reply": "2024-08-23T13:37:02.816467Z"
        },
        "trusted": true
      },
      "execution_count": 389,
      "outputs": []
    },
    {
      "cell_type": "code",
      "source": [
        "def mlp_model_train(self, epoch_count=10, batch_size=10, learning_rate=0.001, report=0):\n",
        "    self.learning_rate = learning_rate\n",
        "\n",
        "    batch_count = int(self.dataset.train_count / batch_size)\n",
        "    time1 = time2 = int(time.time())\n",
        "    if report != 0:\n",
        "        print(f\"Model {self.name} train started:\")\n",
        "\n",
        "    for epoch in range(epoch_count):\n",
        "        costs = []\n",
        "        accs = []\n",
        "        self.dataset.shuffle_train_data(batch_size*batch_count)\n",
        "        for n in range(batch_count):\n",
        "            trX, trY = self.dataset.get_train_data(batch_size, n)\n",
        "            cost, acc = self.train_step(trX, trY)\n",
        "            costs.append(cost)\n",
        "            accs.append(acc)\n",
        "\n",
        "        if report > 0 and (epoch+1) % report == 0:\n",
        "            vaX, vaY = self.dataset.get_validate_data(100)\n",
        "            acc = self.eval_accuracy(vaX, vaY)\n",
        "            time3 = int(time.time())\n",
        "            tm1, tm2 = time3-time2, time3-time1\n",
        "            self.dataset.train_prt_result(epoch+1, costs, accs, acc, tm1, tm2)\n",
        "            time2 = time3\n",
        "\n",
        "    tm_total = int(time.time()) - time1\n",
        "    print(f'Model {self.name} trian ended in {tm_total} secs:')"
      ],
      "metadata": {
        "id": "cLGy3Uwe2pI1",
        "execution": {
          "iopub.status.busy": "2024-08-23T13:37:02.819562Z",
          "iopub.execute_input": "2024-08-23T13:37:02.820027Z",
          "iopub.status.idle": "2024-08-23T13:37:02.833987Z",
          "shell.execute_reply.started": "2024-08-23T13:37:02.819955Z",
          "shell.execute_reply": "2024-08-23T13:37:02.832622Z"
        },
        "trusted": true
      },
      "execution_count": 390,
      "outputs": []
    },
    {
      "cell_type": "code",
      "source": [
        "MlpModel.train = mlp_model_train"
      ],
      "metadata": {
        "id": "zwGw_mGQ2pI1",
        "execution": {
          "iopub.status.busy": "2024-08-23T13:37:02.835753Z",
          "iopub.execute_input": "2024-08-23T13:37:02.8368Z",
          "iopub.status.idle": "2024-08-23T13:37:02.844599Z",
          "shell.execute_reply.started": "2024-08-23T13:37:02.83674Z",
          "shell.execute_reply": "2024-08-23T13:37:02.84338Z"
        },
        "trusted": true
      },
      "execution_count": 391,
      "outputs": []
    },
    {
      "cell_type": "code",
      "source": [
        "def mlp_model_test(self):\n",
        "    teX, teY = self.dataset.get_test_data()\n",
        "    time1 = int(time.time())\n",
        "    acc = self.eval_accuracy(teX, teY)\n",
        "    time2 = int(time.time())\n",
        "    self.dataset.test_prt_result(self.name, acc, time2-time1)"
      ],
      "metadata": {
        "id": "q9C6QG-Q2pI2",
        "execution": {
          "iopub.status.busy": "2024-08-23T13:37:02.845996Z",
          "iopub.execute_input": "2024-08-23T13:37:02.846399Z",
          "iopub.status.idle": "2024-08-23T13:37:02.858312Z",
          "shell.execute_reply.started": "2024-08-23T13:37:02.846354Z",
          "shell.execute_reply": "2024-08-23T13:37:02.856994Z"
        },
        "trusted": true
      },
      "execution_count": 392,
      "outputs": []
    },
    {
      "cell_type": "code",
      "source": [
        "MlpModel.test = mlp_model_test"
      ],
      "metadata": {
        "id": "XMjbYjtl2pI2",
        "execution": {
          "iopub.status.busy": "2024-08-23T13:37:02.859721Z",
          "iopub.execute_input": "2024-08-23T13:37:02.860228Z",
          "iopub.status.idle": "2024-08-23T13:37:02.869872Z",
          "shell.execute_reply.started": "2024-08-23T13:37:02.860048Z",
          "shell.execute_reply": "2024-08-23T13:37:02.868671Z"
        },
        "trusted": true
      },
      "execution_count": 393,
      "outputs": []
    },
    {
      "cell_type": "code",
      "source": [
        "def mlp_model_visualize(self, num):\n",
        "    print(f'Model {self.name} Visualization')\n",
        "    deX, deY = self.dataset.get_visualize_data(num)\n",
        "    est = self.get_estimate(deX)\n",
        "    self.dataset.visualize(deX, est, deY)"
      ],
      "metadata": {
        "id": "duEuOSnu2pI2",
        "execution": {
          "iopub.status.busy": "2024-08-23T13:37:02.871504Z",
          "iopub.execute_input": "2024-08-23T13:37:02.872046Z",
          "iopub.status.idle": "2024-08-23T13:37:02.883925Z",
          "shell.execute_reply.started": "2024-08-23T13:37:02.871988Z",
          "shell.execute_reply": "2024-08-23T13:37:02.882697Z"
        },
        "trusted": true
      },
      "execution_count": 394,
      "outputs": []
    },
    {
      "cell_type": "code",
      "source": [
        "MlpModel.visualize = mlp_model_visualize"
      ],
      "metadata": {
        "id": "P84mx88H2pI3",
        "execution": {
          "iopub.status.busy": "2024-08-23T13:37:02.890166Z",
          "iopub.execute_input": "2024-08-23T13:37:02.890658Z",
          "iopub.status.idle": "2024-08-23T13:37:02.900779Z",
          "shell.execute_reply.started": "2024-08-23T13:37:02.890598Z",
          "shell.execute_reply": "2024-08-23T13:37:02.899317Z"
        },
        "trusted": true
      },
      "execution_count": 395,
      "outputs": []
    },
    {
      "cell_type": "code",
      "source": [
        "def mlp_train_step(self, x, y):\n",
        "    self.is_training = True\n",
        "\n",
        "    output, aux_nn = self.forward_neuralnet(x)\n",
        "    loss, aux_pp = self.forward_postproc(output, y)\n",
        "    accuracy = self.eval_accuracy(x, y, output)\n",
        "\n",
        "    G_loss = 1.0\n",
        "    G_output = self.backprop_postproc(G_loss, aux_pp)\n",
        "    self.backprop_neuralnet(G_output, aux_nn)\n",
        "\n",
        "    self.is_training = False\n",
        "\n",
        "    return loss, accuracy"
      ],
      "metadata": {
        "id": "I7-YwzcD2pI4",
        "execution": {
          "iopub.status.busy": "2024-08-23T13:37:02.902401Z",
          "iopub.execute_input": "2024-08-23T13:37:02.902816Z",
          "iopub.status.idle": "2024-08-23T13:37:02.914225Z",
          "shell.execute_reply.started": "2024-08-23T13:37:02.902758Z",
          "shell.execute_reply": "2024-08-23T13:37:02.913099Z"
        },
        "trusted": true
      },
      "execution_count": 396,
      "outputs": []
    },
    {
      "cell_type": "code",
      "source": [
        "MlpModel.train_step = mlp_train_step"
      ],
      "metadata": {
        "id": "IpBpHkhf2pI4",
        "execution": {
          "iopub.status.busy": "2024-08-23T13:37:02.916011Z",
          "iopub.execute_input": "2024-08-23T13:37:02.916505Z",
          "iopub.status.idle": "2024-08-23T13:37:02.926601Z",
          "shell.execute_reply.started": "2024-08-23T13:37:02.916447Z",
          "shell.execute_reply": "2024-08-23T13:37:02.92546Z"
        },
        "trusted": true
      },
      "execution_count": 397,
      "outputs": []
    },
    {
      "cell_type": "code",
      "source": [
        "def mlp_forward_neuralnet(self, x):\n",
        "    hidden = x\n",
        "    aux_layers = []\n",
        "\n",
        "    for n, hconfig in enumerate(self.hconfigs):\n",
        "        hidden, aux = self.forward_layer(hidden, hconfig, self.pm_hiddens[n])\n",
        "        aux_layers.append(aux)\n",
        "\n",
        "    output, aux_out = self.forward_layer(hidden, None, self.pm_output)\n",
        "\n",
        "    return output, [aux_out, aux_layers]"
      ],
      "metadata": {
        "id": "DYkuN8QC2pI4",
        "execution": {
          "iopub.status.busy": "2024-08-23T13:37:02.928277Z",
          "iopub.execute_input": "2024-08-23T13:37:02.928688Z",
          "iopub.status.idle": "2024-08-23T13:37:02.938992Z",
          "shell.execute_reply.started": "2024-08-23T13:37:02.928642Z",
          "shell.execute_reply": "2024-08-23T13:37:02.937774Z"
        },
        "trusted": true
      },
      "execution_count": 398,
      "outputs": []
    },
    {
      "cell_type": "code",
      "source": [
        "def mlp_backprop_neuralnet(self, G_output, aux):\n",
        "    aux_out, aux_layers = aux\n",
        "\n",
        "    G_hidden = self.backprop_layer(G_output, None, self.pm_output, aux_out)\n",
        "\n",
        "    for n in reversed(range(len(self.hconfigs))):\n",
        "        hconfig, pm, aux = self.hconfigs[n], self.pm_hiddens[n], aux_layers[n]\n",
        "        G_hidden = self.backprop_layer(G_hidden, hconfig, pm, aux)\n",
        "\n",
        "    return G_hidden"
      ],
      "metadata": {
        "id": "ZpSdnyyW2pI4",
        "execution": {
          "iopub.status.busy": "2024-08-23T13:37:02.940515Z",
          "iopub.execute_input": "2024-08-23T13:37:02.941286Z",
          "iopub.status.idle": "2024-08-23T13:37:02.951097Z",
          "shell.execute_reply.started": "2024-08-23T13:37:02.941241Z",
          "shell.execute_reply": "2024-08-23T13:37:02.949803Z"
        },
        "trusted": true
      },
      "execution_count": 399,
      "outputs": []
    },
    {
      "cell_type": "code",
      "source": [
        "MlpModel.forward_neuralnet = mlp_forward_neuralnet\n",
        "MlpModel.backprop_neuralnet = mlp_backprop_neuralnet"
      ],
      "metadata": {
        "id": "TQBYAROw2pI4",
        "execution": {
          "iopub.status.busy": "2024-08-23T13:37:02.952771Z",
          "iopub.execute_input": "2024-08-23T13:37:02.953223Z",
          "iopub.status.idle": "2024-08-23T13:37:02.963761Z",
          "shell.execute_reply.started": "2024-08-23T13:37:02.953174Z",
          "shell.execute_reply": "2024-08-23T13:37:02.962335Z"
        },
        "trusted": true
      },
      "execution_count": 400,
      "outputs": []
    },
    {
      "cell_type": "code",
      "source": [
        "def mlp_forward_layer(self, x, hconfig, pm):\n",
        "    y = np.matmul(x, pm['w']) + pm['b']\n",
        "    if hconfig is not None: y = relu(y)\n",
        "    return y, [x,y]"
      ],
      "metadata": {
        "id": "zvrNGRFg2pI5",
        "execution": {
          "iopub.status.busy": "2024-08-23T13:37:02.965136Z",
          "iopub.execute_input": "2024-08-23T13:37:02.965557Z",
          "iopub.status.idle": "2024-08-23T13:37:02.976294Z",
          "shell.execute_reply.started": "2024-08-23T13:37:02.965506Z",
          "shell.execute_reply": "2024-08-23T13:37:02.975148Z"
        },
        "trusted": true
      },
      "execution_count": 401,
      "outputs": []
    },
    {
      "cell_type": "code",
      "source": [
        "def mlp_backprop_layer(self, G_y, hconfig, pm, aux):\n",
        "    x, y = aux\n",
        "\n",
        "    if hconfig is not None:  G_y = relu_derv(y) * G_y\n",
        "\n",
        "    g_y_weight = x.transpose()\n",
        "    g_y_input = pm['w'].transpose()\n",
        "\n",
        "    G_weight = np.matmul(g_y_weight, G_y)\n",
        "    G_bias = np.sum(G_y, axis=0)\n",
        "    G_input = np.matmul(G_y, g_y_input)\n",
        "\n",
        "    pm['w'] -= self.learning_rate * G_weight\n",
        "    pm['b'] -= self.learning_rate * G_bias\n",
        "\n",
        "    return G_input"
      ],
      "metadata": {
        "id": "FPGL6gxo2pI5",
        "execution": {
          "iopub.status.busy": "2024-08-23T13:37:02.978035Z",
          "iopub.execute_input": "2024-08-23T13:37:02.978524Z",
          "iopub.status.idle": "2024-08-23T13:37:02.988576Z",
          "shell.execute_reply.started": "2024-08-23T13:37:02.97847Z",
          "shell.execute_reply": "2024-08-23T13:37:02.987151Z"
        },
        "trusted": true
      },
      "execution_count": 402,
      "outputs": []
    },
    {
      "cell_type": "code",
      "source": [
        "MlpModel.forward_layer = mlp_forward_layer\n",
        "MlpModel.backprop_layer = mlp_backprop_layer"
      ],
      "metadata": {
        "id": "4uv12R6e2pI5",
        "execution": {
          "iopub.status.busy": "2024-08-23T13:37:02.990601Z",
          "iopub.execute_input": "2024-08-23T13:37:02.991843Z",
          "iopub.status.idle": "2024-08-23T13:37:03.005943Z",
          "shell.execute_reply.started": "2024-08-23T13:37:02.991776Z",
          "shell.execute_reply": "2024-08-23T13:37:03.004179Z"
        },
        "trusted": true
      },
      "execution_count": 403,
      "outputs": []
    },
    {
      "cell_type": "code",
      "source": [
        "def mlp_forward_postproc(self, output, y):\n",
        "    loss, aux_loss = self.dataset.forward_postproc(output, y)\n",
        "    extra, aux_extra = self.forward_extra_cost(y)\n",
        "    return loss + extra, [aux_loss, aux_extra]"
      ],
      "metadata": {
        "id": "6kmFdPF82pI5",
        "execution": {
          "iopub.status.busy": "2024-08-23T13:37:03.007888Z",
          "iopub.execute_input": "2024-08-23T13:37:03.008988Z",
          "iopub.status.idle": "2024-08-23T13:37:03.01979Z",
          "shell.execute_reply.started": "2024-08-23T13:37:03.008924Z",
          "shell.execute_reply": "2024-08-23T13:37:03.018273Z"
        },
        "trusted": true
      },
      "execution_count": 404,
      "outputs": []
    },
    {
      "cell_type": "code",
      "source": [
        "def mlp_forward_extra_cost(self, y):\n",
        "    return 0, None"
      ],
      "metadata": {
        "id": "GLjQgaJb2pI5",
        "execution": {
          "iopub.status.busy": "2024-08-23T13:37:03.021589Z",
          "iopub.execute_input": "2024-08-23T13:37:03.022107Z",
          "iopub.status.idle": "2024-08-23T13:37:03.032348Z",
          "shell.execute_reply.started": "2024-08-23T13:37:03.022053Z",
          "shell.execute_reply": "2024-08-23T13:37:03.030992Z"
        },
        "trusted": true
      },
      "execution_count": 405,
      "outputs": []
    },
    {
      "cell_type": "code",
      "source": [
        "MlpModel.forward_postproc = mlp_forward_postproc\n",
        "MlpModel.forward_extra_cost = mlp_forward_extra_cost"
      ],
      "metadata": {
        "id": "92MWC5lg2pI6",
        "execution": {
          "iopub.status.busy": "2024-08-23T13:37:03.034025Z",
          "iopub.execute_input": "2024-08-23T13:37:03.03443Z",
          "iopub.status.idle": "2024-08-23T13:37:03.045794Z",
          "shell.execute_reply.started": "2024-08-23T13:37:03.03437Z",
          "shell.execute_reply": "2024-08-23T13:37:03.044517Z"
        },
        "trusted": true
      },
      "execution_count": 406,
      "outputs": []
    },
    {
      "cell_type": "code",
      "source": [
        "def mlp_backprop_postproc(self, G_loss, aux):\n",
        "    aux_loss, aux_extra = aux\n",
        "    self.backprop_extra_cost(G_loss, aux_extra)\n",
        "    G_output = self.dataset.backprop_postproc(G_loss, aux_loss)\n",
        "    return G_output"
      ],
      "metadata": {
        "id": "N6ExFhkI2pI6",
        "execution": {
          "iopub.status.busy": "2024-08-23T13:37:03.047368Z",
          "iopub.execute_input": "2024-08-23T13:37:03.047861Z",
          "iopub.status.idle": "2024-08-23T13:37:03.057819Z",
          "shell.execute_reply.started": "2024-08-23T13:37:03.047818Z",
          "shell.execute_reply": "2024-08-23T13:37:03.056693Z"
        },
        "trusted": true
      },
      "execution_count": 407,
      "outputs": []
    },
    {
      "cell_type": "code",
      "source": [
        "def mlp_backprop_extra_cost(self, G_loss, aux):\n",
        "    pass"
      ],
      "metadata": {
        "id": "uegAepYU2pI6",
        "execution": {
          "iopub.status.busy": "2024-08-23T13:37:03.059599Z",
          "iopub.execute_input": "2024-08-23T13:37:03.059998Z",
          "iopub.status.idle": "2024-08-23T13:37:03.070239Z",
          "shell.execute_reply.started": "2024-08-23T13:37:03.059958Z",
          "shell.execute_reply": "2024-08-23T13:37:03.069077Z"
        },
        "trusted": true
      },
      "execution_count": 408,
      "outputs": []
    },
    {
      "cell_type": "code",
      "source": [
        "MlpModel.backprop_postproc = mlp_backprop_postproc\n",
        "MlpModel.backprop_extra_cost = mlp_backprop_extra_cost"
      ],
      "metadata": {
        "id": "sgivnAjm2pI6",
        "execution": {
          "iopub.status.busy": "2024-08-23T13:37:03.071951Z",
          "iopub.execute_input": "2024-08-23T13:37:03.072396Z",
          "iopub.status.idle": "2024-08-23T13:37:03.084985Z",
          "shell.execute_reply.started": "2024-08-23T13:37:03.072353Z",
          "shell.execute_reply": "2024-08-23T13:37:03.083697Z"
        },
        "trusted": true
      },
      "execution_count": 409,
      "outputs": []
    },
    {
      "cell_type": "code",
      "source": [
        "def mlp_eval_accuracy(self, x, y, output=None):\n",
        "    if output is None:\n",
        "        output, _ = self.forward_neuralnet(x)\n",
        "    accuracy = self.dataset.eval_accuracy(x, y, output)\n",
        "    return accuracy"
      ],
      "metadata": {
        "id": "MKKSEojq2pI6",
        "execution": {
          "iopub.status.busy": "2024-08-23T13:37:03.086505Z",
          "iopub.execute_input": "2024-08-23T13:37:03.086911Z",
          "iopub.status.idle": "2024-08-23T13:37:03.09638Z",
          "shell.execute_reply.started": "2024-08-23T13:37:03.086869Z",
          "shell.execute_reply": "2024-08-23T13:37:03.095155Z"
        },
        "trusted": true
      },
      "execution_count": 410,
      "outputs": []
    },
    {
      "cell_type": "code",
      "source": [
        "MlpModel.eval_accuracy = mlp_eval_accuracy"
      ],
      "metadata": {
        "id": "7zjjQZn_2pI6",
        "execution": {
          "iopub.status.busy": "2024-08-23T13:37:03.097821Z",
          "iopub.execute_input": "2024-08-23T13:37:03.0982Z",
          "iopub.status.idle": "2024-08-23T13:37:03.108594Z",
          "shell.execute_reply.started": "2024-08-23T13:37:03.098157Z",
          "shell.execute_reply": "2024-08-23T13:37:03.10729Z"
        },
        "trusted": true
      },
      "execution_count": 411,
      "outputs": []
    },
    {
      "cell_type": "code",
      "source": [
        "def mlp_get_estimate(self, x):\n",
        "    output, _ = self.forward_neuralnet(x)\n",
        "    estimate = self.dataset.get_estimate(output)\n",
        "    return estimate"
      ],
      "metadata": {
        "id": "C3lk99RP2pI7",
        "execution": {
          "iopub.status.busy": "2024-08-23T13:37:03.110042Z",
          "iopub.execute_input": "2024-08-23T13:37:03.110419Z",
          "iopub.status.idle": "2024-08-23T13:37:03.121314Z",
          "shell.execute_reply.started": "2024-08-23T13:37:03.110379Z",
          "shell.execute_reply": "2024-08-23T13:37:03.120019Z"
        },
        "trusted": true
      },
      "execution_count": 412,
      "outputs": []
    },
    {
      "cell_type": "code",
      "source": [
        "MlpModel.get_estimate = mlp_get_estimate"
      ],
      "metadata": {
        "id": "z8llIrrm2pI7",
        "execution": {
          "iopub.status.busy": "2024-08-23T13:37:03.123229Z",
          "iopub.execute_input": "2024-08-23T13:37:03.123929Z",
          "iopub.status.idle": "2024-08-23T13:37:03.133827Z",
          "shell.execute_reply.started": "2024-08-23T13:37:03.12387Z",
          "shell.execute_reply": "2024-08-23T13:37:03.132508Z"
        },
        "trusted": true
      },
      "execution_count": 413,
      "outputs": []
    },
    {
      "cell_type": "code",
      "source": [
        "class Dataset(object):\n",
        "    def __init__(self, name, mode):\n",
        "        self.name = name\n",
        "        self.mode = mode\n",
        "\n",
        "    def __str__(self):\n",
        "        return f'{self.name}({self.mode}, {len(self.tr_xs)}+{len(self.te_xs)}+{len(self.va_xs)})'\n",
        "\n",
        "    @property\n",
        "    def train_count(self):\n",
        "        return len(self.tr_xs)"
      ],
      "metadata": {
        "id": "IUQOIj1q2pI7",
        "execution": {
          "iopub.status.busy": "2024-08-23T13:37:03.135461Z",
          "iopub.execute_input": "2024-08-23T13:37:03.136177Z",
          "iopub.status.idle": "2024-08-23T13:37:03.14671Z",
          "shell.execute_reply.started": "2024-08-23T13:37:03.136058Z",
          "shell.execute_reply": "2024-08-23T13:37:03.145347Z"
        },
        "trusted": true
      },
      "execution_count": 414,
      "outputs": []
    },
    {
      "cell_type": "code",
      "source": [
        "def dataset_get_train_data(self, batch_size, nth):\n",
        "    from_idx = nth * batch_size\n",
        "    to_idx = (nth + 1) * batch_size\n",
        "\n",
        "    tr_X = self.tr_xs[self.indices[from_idx:to_idx]]\n",
        "    tr_Y = self.tr_ys[self.indices[from_idx:to_idx]]\n",
        "\n",
        "    return tr_X, tr_Y"
      ],
      "metadata": {
        "_kg_hide-input": true,
        "id": "c2wPEcDG2pI7",
        "execution": {
          "iopub.status.busy": "2024-08-23T13:37:03.148506Z",
          "iopub.execute_input": "2024-08-23T13:37:03.149074Z",
          "iopub.status.idle": "2024-08-23T13:37:03.159964Z",
          "shell.execute_reply.started": "2024-08-23T13:37:03.149003Z",
          "shell.execute_reply": "2024-08-23T13:37:03.158682Z"
        },
        "trusted": true
      },
      "execution_count": 415,
      "outputs": []
    },
    {
      "cell_type": "code",
      "source": [
        "def dataset_shuffle_train_data(self, size):\n",
        "    self.indices = np.arange(size)\n",
        "    np.random.shuffle(self.indices)"
      ],
      "metadata": {
        "_kg_hide-input": true,
        "id": "MgnEgsZv2pI7",
        "execution": {
          "iopub.status.busy": "2024-08-23T13:37:03.161463Z",
          "iopub.execute_input": "2024-08-23T13:37:03.161913Z",
          "iopub.status.idle": "2024-08-23T13:37:03.179113Z",
          "shell.execute_reply.started": "2024-08-23T13:37:03.161872Z",
          "shell.execute_reply": "2024-08-23T13:37:03.177797Z"
        },
        "trusted": true
      },
      "execution_count": 416,
      "outputs": []
    },
    {
      "cell_type": "code",
      "source": [
        "Dataset.get_train_data = dataset_get_train_data\n",
        "Dataset.shuffle_train_data = dataset_shuffle_train_data"
      ],
      "metadata": {
        "id": "uyCVbUc-2pI8",
        "execution": {
          "iopub.status.busy": "2024-08-23T13:37:03.180952Z",
          "iopub.execute_input": "2024-08-23T13:37:03.181397Z",
          "iopub.status.idle": "2024-08-23T13:37:03.191706Z",
          "shell.execute_reply.started": "2024-08-23T13:37:03.18133Z",
          "shell.execute_reply": "2024-08-23T13:37:03.190441Z"
        },
        "trusted": true
      },
      "execution_count": 417,
      "outputs": []
    },
    {
      "cell_type": "code",
      "source": [
        "def dataset_get_test_data(self):\n",
        "    return self.te_xs, self.te_ys"
      ],
      "metadata": {
        "id": "J2GL_0Qo2pI8",
        "execution": {
          "iopub.status.busy": "2024-08-23T13:37:03.193254Z",
          "iopub.execute_input": "2024-08-23T13:37:03.193639Z",
          "iopub.status.idle": "2024-08-23T13:37:03.202939Z",
          "shell.execute_reply.started": "2024-08-23T13:37:03.193572Z",
          "shell.execute_reply": "2024-08-23T13:37:03.201694Z"
        },
        "trusted": true
      },
      "execution_count": 418,
      "outputs": []
    },
    {
      "cell_type": "code",
      "source": [
        "Dataset.get_test_data = dataset_get_test_data"
      ],
      "metadata": {
        "id": "584vPyBH2pI8",
        "execution": {
          "iopub.status.busy": "2024-08-23T13:37:03.204364Z",
          "iopub.execute_input": "2024-08-23T13:37:03.204974Z",
          "iopub.status.idle": "2024-08-23T13:37:03.215937Z",
          "shell.execute_reply.started": "2024-08-23T13:37:03.204927Z",
          "shell.execute_reply": "2024-08-23T13:37:03.214656Z"
        },
        "trusted": true
      },
      "execution_count": 419,
      "outputs": []
    },
    {
      "cell_type": "code",
      "source": [
        "def dataset_get_validate_data(self, count):\n",
        "    self.va_indices = np.arange(len(self.va_xs))\n",
        "    np.random.shuffle(self.va_indices)\n",
        "\n",
        "    va_X = self.va_xs[self.va_indices[0:count]]\n",
        "    va_Y = self.va_ys[self.va_indices[0:count]]\n",
        "\n",
        "    return va_X, va_Y"
      ],
      "metadata": {
        "id": "AVr36oTL2pI8",
        "execution": {
          "iopub.status.busy": "2024-08-23T13:37:03.217627Z",
          "iopub.execute_input": "2024-08-23T13:37:03.218136Z",
          "iopub.status.idle": "2024-08-23T13:37:03.23024Z",
          "shell.execute_reply.started": "2024-08-23T13:37:03.21806Z",
          "shell.execute_reply": "2024-08-23T13:37:03.22907Z"
        },
        "trusted": true
      },
      "execution_count": 420,
      "outputs": []
    },
    {
      "cell_type": "code",
      "source": [
        "Dataset.get_validate_data = dataset_get_validate_data\n",
        "Dataset.get_visualize_data = dataset_get_validate_data"
      ],
      "metadata": {
        "id": "xkh4_99W2pJN",
        "execution": {
          "iopub.status.busy": "2024-08-23T13:37:03.231825Z",
          "iopub.execute_input": "2024-08-23T13:37:03.232284Z",
          "iopub.status.idle": "2024-08-23T13:37:03.24504Z",
          "shell.execute_reply.started": "2024-08-23T13:37:03.232225Z",
          "shell.execute_reply": "2024-08-23T13:37:03.243659Z"
        },
        "trusted": true
      },
      "execution_count": 421,
      "outputs": []
    },
    {
      "cell_type": "code",
      "source": [
        "def dataset_shuffle_data(self, xs, ys, tr_ratio=0.8, va_ratio=0.05):\n",
        "    data_count = len(xs)\n",
        "\n",
        "    tr_cnt = int(data_count * tr_ratio / 10) * 10\n",
        "    va_cnt = int(data_count * va_ratio)\n",
        "    te_cnt = data_count - (tr_cnt + va_cnt)\n",
        "\n",
        "    tr_from, tr_to = 0, tr_cnt\n",
        "    va_from, va_to = tr_cnt, tr_cnt + va_cnt\n",
        "    te_from, te_to = tr_cnt + va_cnt, data_count\n",
        "\n",
        "    indices = np.arange(data_count)\n",
        "    np.random.shuffle(indices)\n",
        "\n",
        "    self.tr_xs = xs[indices[tr_from:tr_to]]\n",
        "    self.tr_ys = ys[indices[tr_from:tr_to]]\n",
        "    self.va_xs = xs[indices[va_from:va_to]]\n",
        "    self.va_ys = ys[indices[va_from:va_to]]\n",
        "    self.te_xs = xs[indices[te_from:te_to]]\n",
        "    self.te_ys = ys[indices[te_from:te_to]]\n",
        "\n",
        "    self.input_shape = xs[0].shape\n",
        "    self.output_shape = ys[0].shape\n",
        "\n",
        "    return indices[tr_from:tr_to], indices[va_from:va_to], indices[te_from:te_to]"
      ],
      "metadata": {
        "id": "gkghHo_w2pJO",
        "execution": {
          "iopub.status.busy": "2024-08-23T13:37:03.254373Z",
          "iopub.execute_input": "2024-08-23T13:37:03.254812Z",
          "iopub.status.idle": "2024-08-23T13:37:03.2665Z",
          "shell.execute_reply.started": "2024-08-23T13:37:03.254768Z",
          "shell.execute_reply": "2024-08-23T13:37:03.265192Z"
        },
        "trusted": true
      },
      "execution_count": 422,
      "outputs": []
    },
    {
      "cell_type": "code",
      "source": [
        "Dataset.shuffle_data = dataset_shuffle_data"
      ],
      "metadata": {
        "id": "MeAFOilM2pJO",
        "execution": {
          "iopub.status.busy": "2024-08-23T13:37:03.268039Z",
          "iopub.execute_input": "2024-08-23T13:37:03.268666Z",
          "iopub.status.idle": "2024-08-23T13:37:03.278867Z",
          "shell.execute_reply.started": "2024-08-23T13:37:03.268592Z",
          "shell.execute_reply": "2024-08-23T13:37:03.277532Z"
        },
        "trusted": true
      },
      "execution_count": 423,
      "outputs": []
    },
    {
      "cell_type": "code",
      "source": [
        "def dataset_forward_postproc(self, output, y, mode=None):\n",
        "    if mode is None:  mode = self.mode\n",
        "\n",
        "    if mode == 'regression':\n",
        "        diff = output - y\n",
        "        square = np.square(diff)\n",
        "        loss = np.mean(square)\n",
        "        aux = diff\n",
        "    elif mode == 'binary':\n",
        "        entropy = sigmoid_cross_entropy_with_logits(y, output)\n",
        "        loss = np.mean(entropy)\n",
        "        aux = [y, output]\n",
        "    elif mode == 'select':\n",
        "        entropy = softmax_cross_entropy_with_logits(y, output)\n",
        "        loss = np.mean(entropy)\n",
        "        aux = [output, y, entropy]\n",
        "\n",
        "    return loss, aux"
      ],
      "metadata": {
        "id": "C_WhlL8q2pJO",
        "execution": {
          "iopub.status.busy": "2024-08-23T13:37:03.280568Z",
          "iopub.execute_input": "2024-08-23T13:37:03.281118Z",
          "iopub.status.idle": "2024-08-23T13:37:03.291721Z",
          "shell.execute_reply.started": "2024-08-23T13:37:03.281044Z",
          "shell.execute_reply": "2024-08-23T13:37:03.290163Z"
        },
        "trusted": true
      },
      "execution_count": 424,
      "outputs": []
    },
    {
      "cell_type": "code",
      "source": [
        "Dataset.forward_postproc = dataset_forward_postproc"
      ],
      "metadata": {
        "id": "IC2OIQhD2pJP",
        "execution": {
          "iopub.status.busy": "2024-08-23T13:37:03.293092Z",
          "iopub.execute_input": "2024-08-23T13:37:03.29356Z",
          "iopub.status.idle": "2024-08-23T13:37:03.311571Z",
          "shell.execute_reply.started": "2024-08-23T13:37:03.293516Z",
          "shell.execute_reply": "2024-08-23T13:37:03.310385Z"
        },
        "trusted": true
      },
      "execution_count": 425,
      "outputs": []
    },
    {
      "cell_type": "code",
      "source": [
        "def dataset_backprop_postproc(self, G_loss, aux, mode=None):\n",
        "    if mode is None:  mode = self.mode\n",
        "\n",
        "    if mode == 'regression':\n",
        "        diff = aux\n",
        "        shape = diff.shape\n",
        "\n",
        "        g_loss_square = np.ones(shape) / np.prod(shape)\n",
        "        g_square_diff = 2 * diff\n",
        "        g_diff_output = 1\n",
        "\n",
        "        G_square = g_loss_square * G_loss\n",
        "        G_diff = g_square_diff * G_square\n",
        "        G_output = g_diff_output * G_diff\n",
        "    elif mode == 'binary':\n",
        "        y, output = aux\n",
        "        shape = output.shape\n",
        "\n",
        "        g_loss_entropy = np.ones(shape) / np.prod(shape)\n",
        "        g_entropy_output = sigmoid_cross_entropy_with_logits_derv(y, output)\n",
        "\n",
        "        G_entropy = g_loss_entropy * G_loss\n",
        "        G_output = g_entropy_output * G_entropy\n",
        "    elif mode == 'select':\n",
        "        output, y, entropy = aux\n",
        "\n",
        "        g_loss_entropy = 1.0 / np.prod(entropy.shape)\n",
        "        g_entropy_output = softmax_cross_entropy_with_logits_derv(y, output)\n",
        "\n",
        "        G_entropy = g_loss_entropy * G_loss\n",
        "        G_output = g_entropy_output * G_entropy\n",
        "\n",
        "    return G_output"
      ],
      "metadata": {
        "id": "L_Sdy3nP2pJP",
        "execution": {
          "iopub.status.busy": "2024-08-23T13:37:03.31332Z",
          "iopub.execute_input": "2024-08-23T13:37:03.31384Z",
          "iopub.status.idle": "2024-08-23T13:37:03.325436Z",
          "shell.execute_reply.started": "2024-08-23T13:37:03.313782Z",
          "shell.execute_reply": "2024-08-23T13:37:03.324266Z"
        },
        "trusted": true
      },
      "execution_count": 426,
      "outputs": []
    },
    {
      "cell_type": "code",
      "source": [
        "Dataset.backprop_postproc = dataset_backprop_postproc"
      ],
      "metadata": {
        "id": "IovlGn362pJQ",
        "execution": {
          "iopub.status.busy": "2024-08-23T13:37:03.327159Z",
          "iopub.execute_input": "2024-08-23T13:37:03.327639Z",
          "iopub.status.idle": "2024-08-23T13:37:03.336578Z",
          "shell.execute_reply.started": "2024-08-23T13:37:03.327568Z",
          "shell.execute_reply": "2024-08-23T13:37:03.335274Z"
        },
        "trusted": true
      },
      "execution_count": 427,
      "outputs": []
    },
    {
      "cell_type": "code",
      "source": [
        "def dataset_eval_accuracy(self, x, y, output, mode=None):\n",
        "    if mode is None:  mode = self.mode\n",
        "\n",
        "    if mode == 'regression':\n",
        "        mse = np.mean(np.square(output - y))\n",
        "        accuracy = 1 - np.sqrt(mse) / np.mean(y)\n",
        "    elif mode == 'binary':\n",
        "        estimate = np.greater(output, 0)\n",
        "        answer = np.equal(y, 1.0)\n",
        "        correct = np.equal(estimate, answer)\n",
        "        accuracy = np.mean(correct)\n",
        "    elif mode == 'select':\n",
        "        estimate = np.argmax(output, axis=1)\n",
        "        answer = np.argmax(y, axis=1)\n",
        "        correct = np.equal(estimate, answer)\n",
        "        accuracy = np.mean(correct)\n",
        "\n",
        "    return accuracy"
      ],
      "metadata": {
        "id": "oj4nnABo2pJQ",
        "execution": {
          "iopub.status.busy": "2024-08-23T13:37:03.341171Z",
          "iopub.execute_input": "2024-08-23T13:37:03.341675Z",
          "iopub.status.idle": "2024-08-23T13:37:03.352282Z",
          "shell.execute_reply.started": "2024-08-23T13:37:03.341593Z",
          "shell.execute_reply": "2024-08-23T13:37:03.351136Z"
        },
        "trusted": true
      },
      "execution_count": 428,
      "outputs": []
    },
    {
      "cell_type": "code",
      "source": [
        "Dataset.eval_accuracy = dataset_eval_accuracy"
      ],
      "metadata": {
        "id": "7QDnSUMx2pJR",
        "execution": {
          "iopub.status.busy": "2024-08-23T13:37:03.353949Z",
          "iopub.execute_input": "2024-08-23T13:37:03.354731Z",
          "iopub.status.idle": "2024-08-23T13:37:03.370409Z",
          "shell.execute_reply.started": "2024-08-23T13:37:03.354686Z",
          "shell.execute_reply": "2024-08-23T13:37:03.36911Z"
        },
        "trusted": true
      },
      "execution_count": 429,
      "outputs": []
    },
    {
      "cell_type": "code",
      "source": [
        "def dataset_get_estimate(self, output, mode=None):\n",
        "    if mode is None:  mode = self.mode\n",
        "\n",
        "    if mode == 'regression':\n",
        "        estimate = output\n",
        "    elif mode == 'binary':\n",
        "        estimate = sigmoid(output)\n",
        "    elif mode == 'select':\n",
        "        estimate = softmax(output)\n",
        "\n",
        "    return estimate"
      ],
      "metadata": {
        "id": "C0CGuNLC2pJS",
        "execution": {
          "iopub.status.busy": "2024-08-23T13:37:03.372285Z",
          "iopub.execute_input": "2024-08-23T13:37:03.372719Z",
          "iopub.status.idle": "2024-08-23T13:37:03.383141Z",
          "shell.execute_reply.started": "2024-08-23T13:37:03.372666Z",
          "shell.execute_reply": "2024-08-23T13:37:03.381812Z"
        },
        "trusted": true
      },
      "execution_count": 430,
      "outputs": []
    },
    {
      "cell_type": "code",
      "source": [
        "Dataset.get_estimate = dataset_get_estimate"
      ],
      "metadata": {
        "id": "6ZD6GzcE2pJT",
        "execution": {
          "iopub.status.busy": "2024-08-23T13:37:03.384768Z",
          "iopub.execute_input": "2024-08-23T13:37:03.385199Z",
          "iopub.status.idle": "2024-08-23T13:37:03.398825Z",
          "shell.execute_reply.started": "2024-08-23T13:37:03.385157Z",
          "shell.execute_reply": "2024-08-23T13:37:03.397542Z"
        },
        "trusted": true
      },
      "execution_count": 431,
      "outputs": []
    },
    {
      "cell_type": "code",
      "source": [
        "def dataset_train_prt_result(self, epoch, costs, accs, acc, time1, time2):\n",
        "    print(f'    Epoch {epoch}: cost={np.mean(costs):5.3f}, accuracy={np.mean(accs):5.3f}/{acc:5.3f} ({time1}/{time2} secs)')"
      ],
      "metadata": {
        "id": "y9YTK8OL2pJT",
        "execution": {
          "iopub.status.busy": "2024-08-23T13:37:03.400725Z",
          "iopub.execute_input": "2024-08-23T13:37:03.401214Z",
          "iopub.status.idle": "2024-08-23T13:37:03.413716Z",
          "shell.execute_reply.started": "2024-08-23T13:37:03.401156Z",
          "shell.execute_reply": "2024-08-23T13:37:03.412249Z"
        },
        "trusted": true
      },
      "execution_count": 432,
      "outputs": []
    },
    {
      "cell_type": "code",
      "source": [
        "def dataset_test_prt_result(self, name, acc, time):\n",
        "    print(f'Model {name} test report: accuracy = {acc:5.3f}, ({time} secs)\\n')"
      ],
      "metadata": {
        "id": "Hxy2uh-m2pJT",
        "execution": {
          "iopub.status.busy": "2024-08-23T13:37:03.415343Z",
          "iopub.execute_input": "2024-08-23T13:37:03.415836Z",
          "iopub.status.idle": "2024-08-23T13:37:03.425247Z",
          "shell.execute_reply.started": "2024-08-23T13:37:03.415778Z",
          "shell.execute_reply": "2024-08-23T13:37:03.424032Z"
        },
        "trusted": true
      },
      "execution_count": 433,
      "outputs": []
    },
    {
      "cell_type": "code",
      "source": [
        "Dataset.train_prt_result = dataset_train_prt_result\n",
        "Dataset.test_prt_result = dataset_test_prt_result"
      ],
      "metadata": {
        "id": "sxYa46fB2pJT",
        "execution": {
          "iopub.status.busy": "2024-08-23T13:37:03.426769Z",
          "iopub.execute_input": "2024-08-23T13:37:03.427186Z",
          "iopub.status.idle": "2024-08-23T13:37:03.437711Z",
          "shell.execute_reply.started": "2024-08-23T13:37:03.42713Z",
          "shell.execute_reply": "2024-08-23T13:37:03.436446Z"
        },
        "trusted": true
      },
      "execution_count": 434,
      "outputs": []
    },
    {
      "cell_type": "code",
      "source": [
        "class AbaloneDataset(Dataset):\n",
        "    def __init__(self):\n",
        "        super(AbaloneDataset, self).__init__('abalone', 'regression')\n",
        "\n",
        "        rows, _ = load_csv('/content/abalone.csv')\n",
        "\n",
        "        xs = np.zeros([len(rows), 10])\n",
        "        ys = np.zeros([len(rows), 1])\n",
        "\n",
        "        for n, row in enumerate(rows):\n",
        "            if row[0] == 'I':  xs[n, 0] = 1\n",
        "            if row[0] == 'M':  xs[n, 1] = 1\n",
        "            if row[0] == 'F':  xs[n, 2] = 1\n",
        "            xs[n, 3:] = row[1:-1]\n",
        "            ys[n, :] = row[-1:]\n",
        "\n",
        "        self.shuffle_data(xs, ys, 0.8)\n",
        "\n",
        "    def visualize(self, xs, estimates, answers):\n",
        "        for n in range(len(xs)):\n",
        "            x, est, ans = xs[n], estimates[n], answers[n]\n",
        "            xstr = vector_to_str(x, '%4.2f')\n",
        "            print(f'{xstr} => 추정 {est[0]:4.1f} : 정답 {ans[0]:4.1f}')"
      ],
      "metadata": {
        "id": "AUdtoJI42pJT",
        "execution": {
          "iopub.status.busy": "2024-08-23T13:40:47.544936Z",
          "iopub.execute_input": "2024-08-23T13:40:47.545375Z",
          "iopub.status.idle": "2024-08-23T13:40:47.557108Z",
          "shell.execute_reply.started": "2024-08-23T13:40:47.545333Z",
          "shell.execute_reply": "2024-08-23T13:40:47.55584Z"
        },
        "trusted": true
      },
      "execution_count": 435,
      "outputs": []
    },
    {
      "cell_type": "code",
      "source": [
        "class PulsarDataset(Dataset):\n",
        "    def __init__(self):\n",
        "        super(PulsarDataset, self).__init__('pulsar', 'binary')\n",
        "\n",
        "        rows, _ = load_csv('/content/pulsar_stars.csv')\n",
        "\n",
        "        data = np.asarray(rows, dtype='float32')\n",
        "        self.shuffle_data(data[:, :-1], data[:, -1:], 0.8)\n",
        "        self.target_names = ['별', '펄서']\n",
        "\n",
        "    def visualize(self, xs, estimates, answers):\n",
        "        for n in range(len(xs)):\n",
        "            x, est, ans = xs[n], estimates[n], answers[n]\n",
        "            xstr = vector_to_str(x, '%5.1f', 3)\n",
        "            estr = self.target_names[int(round(est[0]))]\n",
        "            astr = self.target_names[int(round(ans[0]))]\n",
        "            rstr = '0'\n",
        "            if estr != astr:  rstr = 'X'\n",
        "            print(f'{xstr} => 추정 {estr}(확률 {est[0]:4.2f}) : 정답 {astr} => {rstr}')"
      ],
      "metadata": {
        "id": "v7ms9TFl2pJU",
        "execution": {
          "iopub.status.busy": "2024-08-23T13:37:03.455506Z",
          "iopub.execute_input": "2024-08-23T13:37:03.455941Z",
          "iopub.status.idle": "2024-08-23T13:37:03.473446Z",
          "shell.execute_reply.started": "2024-08-23T13:37:03.455898Z",
          "shell.execute_reply": "2024-08-23T13:37:03.472221Z"
        },
        "trusted": true
      },
      "execution_count": 436,
      "outputs": []
    },
    {
      "cell_type": "code",
      "source": [
        "class SteelDataset(Dataset):\n",
        "    def __init__(self):\n",
        "        super(SteelDataset, self).__init__('steel', 'select')\n",
        "\n",
        "        rows, headers = load_csv('/content/faults.csv')\n",
        "\n",
        "        data = np.asarray(rows, dtype='float32')\n",
        "        self.shuffle_data(data[:, :-7], data[:, -7:], 0.8)\n",
        "\n",
        "        self.target_names = headers[-7:]\n",
        "\n",
        "    def visualize(self, xs, estimates, answers):\n",
        "        show_select_results(estimates, answers, self.target_names)"
      ],
      "metadata": {
        "id": "YJoJvVNa2pJU",
        "execution": {
          "iopub.status.busy": "2024-08-23T13:37:03.474943Z",
          "iopub.execute_input": "2024-08-23T13:37:03.475364Z",
          "iopub.status.idle": "2024-08-23T13:37:03.48691Z",
          "shell.execute_reply.started": "2024-08-23T13:37:03.475307Z",
          "shell.execute_reply": "2024-08-23T13:37:03.485486Z"
        },
        "trusted": true
      },
      "execution_count": 437,
      "outputs": []
    },
    {
      "cell_type": "code",
      "source": [
        "class PulsarSelectDataset(Dataset):\n",
        "    def __init__(self):\n",
        "        super(PulsarSelectDataset, self).__init__('pulsarselect', 'select')\n",
        "\n",
        "        rows, _ = load_csv('/content/pulsar_stars.csv')\n",
        "\n",
        "        data = np.asarray(rows, dtype='float32')\n",
        "        self.shuffle_data(data[:, :-1], onehot(data[:, -1], 2), 0.8)\n",
        "        self.target_names = ['별', '펄서']\n",
        "\n",
        "    def visualize(self, xs, estimates, answers):\n",
        "        show_select_results(estimates, answers, self.target_names)"
      ],
      "metadata": {
        "id": "GlV-oDeH2pJU",
        "execution": {
          "iopub.status.busy": "2024-08-23T13:37:03.488629Z",
          "iopub.execute_input": "2024-08-23T13:37:03.489013Z",
          "iopub.status.idle": "2024-08-23T13:37:03.505773Z",
          "shell.execute_reply.started": "2024-08-23T13:37:03.488972Z",
          "shell.execute_reply": "2024-08-23T13:37:03.504491Z"
        },
        "trusted": true
      },
      "execution_count": 438,
      "outputs": []
    },
    {
      "cell_type": "code",
      "source": [
        "class FlowersDataset(Dataset):\n",
        "    pass"
      ],
      "metadata": {
        "id": "x5A7ULlS2pJU",
        "execution": {
          "iopub.status.busy": "2024-08-23T13:37:03.507676Z",
          "iopub.execute_input": "2024-08-23T13:37:03.508055Z",
          "iopub.status.idle": "2024-08-23T13:37:03.518838Z",
          "shell.execute_reply.started": "2024-08-23T13:37:03.508005Z",
          "shell.execute_reply": "2024-08-23T13:37:03.517651Z"
        },
        "trusted": true
      },
      "execution_count": 439,
      "outputs": []
    },
    {
      "cell_type": "code",
      "source": [
        "def flowers_init(self, resolution=[100, 100], input_shape=[-1]):\n",
        "    super(FlowersDataset, self).__init__('flowers', 'select')\n",
        "\n",
        "    path = '/content/flower'\n",
        "    self.target_names = list_dir(path)\n",
        "\n",
        "    images = []\n",
        "    idxs = []\n",
        "\n",
        "    for dx, dname in enumerate(self.target_names):\n",
        "        subpath = path + '/' + dname\n",
        "        filenames = list_dir(subpath)\n",
        "        for fname in filenames:\n",
        "            if fname[-4:] != '.jpg':\n",
        "                continue\n",
        "            imagepath = os.path.join(subpath, fname)\n",
        "            pixels = load_image_pixels(imagepath, resolution, input_shape)\n",
        "            images.append(pixels)\n",
        "            idxs.append(dx)\n",
        "\n",
        "    self.image_shape = resolution + [3]\n",
        "\n",
        "    xs = np.asarray(images, np.float32)\n",
        "    ys = onehot(idxs, len(self.target_names))\n",
        "\n",
        "    self.shuffle_data(xs, ys, 0.8)"
      ],
      "metadata": {
        "id": "tV3XVRvp2pJV",
        "execution": {
          "iopub.status.busy": "2024-08-23T13:37:03.520696Z",
          "iopub.execute_input": "2024-08-23T13:37:03.521228Z",
          "iopub.status.idle": "2024-08-23T13:37:03.534123Z",
          "shell.execute_reply.started": "2024-08-23T13:37:03.52117Z",
          "shell.execute_reply": "2024-08-23T13:37:03.532711Z"
        },
        "trusted": true
      },
      "execution_count": 440,
      "outputs": []
    },
    {
      "cell_type": "code",
      "source": [
        "FlowersDataset.__init__ = flowers_init"
      ],
      "metadata": {
        "id": "aAv1dvA52pJV",
        "execution": {
          "iopub.status.busy": "2024-08-23T13:37:03.535728Z",
          "iopub.execute_input": "2024-08-23T13:37:03.536121Z",
          "iopub.status.idle": "2024-08-23T13:37:03.547398Z",
          "shell.execute_reply.started": "2024-08-23T13:37:03.536077Z",
          "shell.execute_reply": "2024-08-23T13:37:03.546164Z"
        },
        "trusted": true
      },
      "execution_count": 441,
      "outputs": []
    },
    {
      "cell_type": "code",
      "source": [
        "def flowers_visualize(self, xs, estimates, answers):\n",
        "    draw_images_horz(xs, self.image_shape)\n",
        "    show_select_results(estimates, answers, self.target_names)\n",
        "\n",
        "FlowersDataset.visualize = flowers_visualize"
      ],
      "metadata": {
        "id": "1u1A2A_s2pJV",
        "execution": {
          "iopub.status.busy": "2024-08-23T13:37:03.548991Z",
          "iopub.execute_input": "2024-08-23T13:37:03.549511Z",
          "iopub.status.idle": "2024-08-23T13:37:03.561427Z",
          "shell.execute_reply.started": "2024-08-23T13:37:03.549465Z",
          "shell.execute_reply": "2024-08-23T13:37:03.560163Z"
        },
        "trusted": true
      },
      "execution_count": 442,
      "outputs": []
    },
    {
      "cell_type": "code",
      "source": [
        "ad = AbaloneDataset()\n",
        "am = MlpModel('abalone_model', ad, [])\n",
        "am.exec_all(epoch_count=10, report=2)"
      ],
      "metadata": {
        "execution": {
          "iopub.status.busy": "2024-08-23T13:40:53.594443Z",
          "iopub.execute_input": "2024-08-23T13:40:53.594919Z",
          "iopub.status.idle": "2024-08-23T13:40:53.67997Z",
          "shell.execute_reply.started": "2024-08-23T13:40:53.594873Z",
          "shell.execute_reply": "2024-08-23T13:40:53.678242Z"
        },
        "trusted": true,
        "id": "sWXKtFlVeMBt",
        "outputId": "6e79afac-6a0d-4b76-e747-0dd7bea4390e",
        "colab": {
          "base_uri": "https://localhost:8080/"
        }
      },
      "execution_count": 443,
      "outputs": [
        {
          "output_type": "stream",
          "name": "stdout",
          "text": [
            "Model abalone_model train started:\n",
            "    Epoch 2: cost=8.191, accuracy=0.733/0.711 (1/1 secs)\n",
            "    Epoch 4: cost=7.392, accuracy=0.744/0.694 (0/1 secs)\n",
            "    Epoch 6: cost=7.247, accuracy=0.747/0.737 (0/1 secs)\n",
            "    Epoch 8: cost=7.139, accuracy=0.748/0.725 (0/1 secs)\n",
            "    Epoch 10: cost=7.054, accuracy=0.751/0.746 (0/1 secs)\n",
            "Model abalone_model trian ended in 1 secs:\n",
            "Model abalone_model test report: accuracy = 0.727, (0 secs)\n",
            "\n",
            "Model abalone_model Visualization\n",
            "[0.00,0.00,1.00,0.70,0.53,0.17,1.56,0.61,0.39,0.44] => 추정 12.9 : 정답 10.0\n",
            "[0.00,1.00,0.00,0.46,0.38,0.12,0.48,0.22,0.10,0.17] => 추정  8.7 : 정답  7.0\n",
            "[0.00,0.00,1.00,0.58,0.45,0.14,1.14,0.56,0.22,0.29] => 추정 11.3 : 정답  8.0\n"
          ]
        }
      ]
    },
    {
      "cell_type": "code",
      "source": [
        "pd = PulsarDataset()\n",
        "pm = MlpModel('pulsar_model', pd, [4])\n",
        "pm.exec_all(epoch_count=10, report=2)"
      ],
      "metadata": {
        "id": "wx-kngcMlEvR",
        "outputId": "30fc7779-094a-41e3-c08a-35d259137a6e",
        "colab": {
          "base_uri": "https://localhost:8080/"
        }
      },
      "execution_count": 444,
      "outputs": [
        {
          "output_type": "stream",
          "name": "stdout",
          "text": [
            "Model pulsar_model train started:\n",
            "    Epoch 2: cost=0.110, accuracy=0.964/0.970 (0/0 secs)\n",
            "    Epoch 4: cost=0.098, accuracy=0.969/1.000 (1/1 secs)\n",
            "    Epoch 6: cost=0.096, accuracy=0.970/0.980 (1/2 secs)\n",
            "    Epoch 8: cost=0.094, accuracy=0.971/0.990 (0/2 secs)\n",
            "    Epoch 10: cost=0.093, accuracy=0.972/0.970 (1/3 secs)\n",
            "Model pulsar_model trian ended in 3 secs:\n",
            "Model pulsar_model test report: accuracy = 0.969, (0 secs)\n",
            "\n",
            "Model pulsar_model Visualization\n",
            "[122.7, 41.7,  0.4,...] => 추정 별(확률 0.05) : 정답 별 => 0\n",
            "[ 83.1, 42.2,  0.9,...] => 추정 별(확률 0.06) : 정답 별 => 0\n",
            "[119.6, 47.2,  0.2,...] => 추정 별(확률 0.00) : 정답 별 => 0\n"
          ]
        }
      ]
    },
    {
      "cell_type": "code",
      "source": [
        "pm.visualize(5)"
      ],
      "metadata": {
        "id": "dS2hrfgPlH-x",
        "outputId": "69961af7-fd0a-4830-a994-f6bad9c06a5b",
        "colab": {
          "base_uri": "https://localhost:8080/"
        }
      },
      "execution_count": 445,
      "outputs": [
        {
          "output_type": "stream",
          "name": "stdout",
          "text": [
            "Model pulsar_model Visualization\n",
            "[103.4, 50.0,  0.6,...] => 추정 별(확률 0.01) : 정답 별 => 0\n",
            "[ 93.9, 40.4,  0.2,...] => 추정 별(확률 0.05) : 정답 별 => 0\n",
            "[122.4, 46.0,  0.3,...] => 추정 별(확률 0.00) : 정답 별 => 0\n",
            "[ 86.4, 46.7,  1.4,...] => 추정 별(확률 0.40) : 정답 펄서 => X\n",
            "[ 94.2, 45.4,  0.3,...] => 추정 별(확률 0.01) : 정답 별 => 0\n"
          ]
        }
      ]
    }
  ]
}