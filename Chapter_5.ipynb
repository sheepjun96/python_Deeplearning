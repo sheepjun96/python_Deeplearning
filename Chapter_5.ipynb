{
  "metadata": {
    "kernelspec": {
      "language": "python",
      "display_name": "Python 3",
      "name": "python3"
    },
    "language_info": {
      "name": "python",
      "version": "3.10.14",
      "mimetype": "text/x-python",
      "codemirror_mode": {
        "name": "ipython",
        "version": 3
      },
      "pygments_lexer": "ipython3",
      "nbconvert_exporter": "python",
      "file_extension": ".py"
    },
    "kaggle": {
      "accelerator": "none",
      "dataSources": [
        {
          "sourceId": 57419,
          "sourceType": "datasetVersion",
          "datasetId": 37691
        },
        {
          "sourceId": 2431805,
          "sourceType": "datasetVersion",
          "datasetId": 8782
        },
        {
          "sourceId": 3972,
          "sourceType": "datasetVersion",
          "datasetId": 2363
        },
        {
          "sourceId": 2085889,
          "sourceType": "datasetVersion",
          "datasetId": 1250649
        }
      ],
      "dockerImageVersionId": 30761,
      "isInternetEnabled": false,
      "language": "python",
      "sourceType": "notebook",
      "isGpuEnabled": false
    },
    "colab": {
      "name": "Chapter_5",
      "provenance": [],
      "include_colab_link": true
    }
  },
  "nbformat_minor": 0,
  "nbformat": 4,
  "cells": [
    {
      "cell_type": "markdown",
      "metadata": {
        "id": "view-in-github",
        "colab_type": "text"
      },
      "source": [
        "<a href=\"https://colab.research.google.com/github/sheepjun96/python_Deeplearning/blob/main/Chapter_5.ipynb\" target=\"_parent\"><img src=\"https://colab.research.google.com/assets/colab-badge.svg\" alt=\"Open In Colab\"/></a>"
      ]
    },
    {
      "cell_type": "code",
      "source": [
        "import numpy as np\n",
        "import time\n",
        "import os\n",
        "np.random.seed(1234)"
      ],
      "metadata": {
        "_uuid": "8f2839f25d086af736a60e9eeb907d3b93b6e0e5",
        "_cell_guid": "b1076dfc-b9ad-4769-8c92-a6c4dae69d19",
        "execution": {
          "iopub.status.busy": "2024-08-23T10:45:32.84295Z",
          "iopub.execute_input": "2024-08-23T10:45:32.843422Z",
          "iopub.status.idle": "2024-08-23T10:45:32.849759Z",
          "shell.execute_reply.started": "2024-08-23T10:45:32.843379Z",
          "shell.execute_reply": "2024-08-23T10:45:32.848512Z"
        },
        "trusted": true,
        "id": "zgwd-FVW2pIz"
      },
      "execution_count": null,
      "outputs": []
    },
    {
      "cell_type": "code",
      "source": [
        "class Model(object):\n",
        "    def __init__(self, name, dataset):\n",
        "        self.name = name\n",
        "        self.dataset = dataset\n",
        "        self.is_training = False\n",
        "        if not hasattr(self, 'rand_std'):  self.rand_std = 0.030\n",
        "\n",
        "    def __str__(self):\n",
        "        return f'{self.name}/{self.dataset}'\n",
        "\n",
        "    def exex_all(self, epoch_count=10, batch_size=10, learning_rate=0.001, report=0, show_cnt=3):\n",
        "        self.train(epoch_count, batch_size, learning_rate, report)\n",
        "        self.test()\n",
        "        if show_cnt > 0:  self.visualize(show_cnt)"
      ],
      "metadata": {
        "execution": {
          "iopub.status.busy": "2024-08-23T09:55:22.398234Z",
          "iopub.execute_input": "2024-08-23T09:55:22.399489Z",
          "iopub.status.idle": "2024-08-23T09:55:22.411002Z",
          "shell.execute_reply.started": "2024-08-23T09:55:22.399407Z",
          "shell.execute_reply": "2024-08-23T09:55:22.409322Z"
        },
        "trusted": true,
        "id": "DDxvH9zv2pI0"
      },
      "execution_count": null,
      "outputs": []
    },
    {
      "cell_type": "code",
      "source": [
        "class MlpModel(Model):\n",
        "    def __init__(self, name, dataset, hconfigs):\n",
        "        super(MlpModel, self).__init__(name, dataset)\n",
        "        self.init_parameters(hconfigs)"
      ],
      "metadata": {
        "execution": {
          "iopub.status.busy": "2024-08-23T09:55:22.413146Z",
          "iopub.execute_input": "2024-08-23T09:55:22.41368Z",
          "iopub.status.idle": "2024-08-23T09:55:22.422777Z",
          "shell.execute_reply.started": "2024-08-23T09:55:22.413612Z",
          "shell.execute_reply": "2024-08-23T09:55:22.421373Z"
        },
        "trusted": true,
        "id": "WLHuMY6Q2pI0"
      },
      "execution_count": null,
      "outputs": []
    },
    {
      "cell_type": "code",
      "source": [
        "def mlp_init_parameters(self, hconfigs):\n",
        "    self.hconfigs = hconfigs\n",
        "    self.pm_hiddens = []\n",
        "\n",
        "    prev_shape = self.dataset.input_shape\n",
        "\n",
        "    for hconfig in hconfigs:\n",
        "        pm_hidden, prev_shape = self.alloc_layer_param(prev_shape, hconfig)\n",
        "        self.pm_hiddens.append(pm_hidden)\n",
        "\n",
        "    output_cnt = int(np.prod(self.dataset.output_shape))\n",
        "    self.pm_output, _ = self.alloc_layer_param(prev_shape, output_cnt)"
      ],
      "metadata": {
        "execution": {
          "iopub.status.busy": "2024-08-23T09:55:22.425376Z",
          "iopub.execute_input": "2024-08-23T09:55:22.426176Z",
          "iopub.status.idle": "2024-08-23T09:55:22.434973Z",
          "shell.execute_reply.started": "2024-08-23T09:55:22.426071Z",
          "shell.execute_reply": "2024-08-23T09:55:22.433566Z"
        },
        "trusted": true,
        "id": "p7Bw0JnN2pI0"
      },
      "execution_count": null,
      "outputs": []
    },
    {
      "cell_type": "code",
      "source": [
        "def mlp_alloc_layer_param(self, input_shape, hconfig):\n",
        "    input_cnt = np.prod(input_shape)\n",
        "    output_cont = hconfig\n",
        "\n",
        "    weight, bias = self.alloc_param_pair([input_cnt, output_cnt])\n",
        "\n",
        "    return {'w':weight, 'b':bias}, output_cnt"
      ],
      "metadata": {
        "execution": {
          "iopub.status.busy": "2024-08-23T09:55:22.438391Z",
          "iopub.execute_input": "2024-08-23T09:55:22.43886Z",
          "iopub.status.idle": "2024-08-23T09:55:22.44642Z",
          "shell.execute_reply.started": "2024-08-23T09:55:22.438817Z",
          "shell.execute_reply": "2024-08-23T09:55:22.444939Z"
        },
        "trusted": true,
        "id": "7Z6yBSPt2pI0"
      },
      "execution_count": null,
      "outputs": []
    },
    {
      "cell_type": "code",
      "source": [
        "def mlp_alloc_param_pair(self, shape):\n",
        "    weight = np.random.normal(0, self.rand_std, shape)\n",
        "    bias = np.zeros([shape[-1]])\n",
        "    return weight, bias"
      ],
      "metadata": {
        "execution": {
          "iopub.status.busy": "2024-08-23T09:55:22.448109Z",
          "iopub.execute_input": "2024-08-23T09:55:22.448618Z",
          "iopub.status.idle": "2024-08-23T09:55:22.458131Z",
          "shell.execute_reply.started": "2024-08-23T09:55:22.448559Z",
          "shell.execute_reply": "2024-08-23T09:55:22.45667Z"
        },
        "trusted": true,
        "id": "_bpMuqBf2pI1"
      },
      "execution_count": null,
      "outputs": []
    },
    {
      "cell_type": "code",
      "source": [
        "MlpModel.init_parameters = mlp_init_parameters\n",
        "MlpModel.alloc_layer_param = mlp_alloc_layer_param\n",
        "MlpModel.alloc_param_pair = mlp_alloc_param_pair"
      ],
      "metadata": {
        "execution": {
          "iopub.status.busy": "2024-08-23T09:55:22.460198Z",
          "iopub.execute_input": "2024-08-23T09:55:22.460703Z",
          "iopub.status.idle": "2024-08-23T09:55:22.476008Z",
          "shell.execute_reply.started": "2024-08-23T09:55:22.460658Z",
          "shell.execute_reply": "2024-08-23T09:55:22.474529Z"
        },
        "trusted": true,
        "id": "LAnwAA_k2pI1"
      },
      "execution_count": null,
      "outputs": []
    },
    {
      "cell_type": "code",
      "source": [
        "def mlp_model_train(self, epoch_count=10, batch_size=10, learning_rate=0.001, report=0):\n",
        "    self.learning_rate = learning_rate\n",
        "\n",
        "    batch_count = int(self.dataset.train_count / batch_size)\n",
        "    time1 = time2 = int(time.time())\n",
        "    if report != 0:\n",
        "        print(f\"Model {self.name} train started:\")\n",
        "\n",
        "    for epoch in range(epoch_count):\n",
        "        costs = []\n",
        "        accs = []\n",
        "        self.dataset.shuffle_train_data(batch_size*batch_count)\n",
        "        for n in range(batch_count):\n",
        "            trX, trY = self.dataset.get_train_data(batch_size, n)\n",
        "            cost, acc = self.train_step(trX, trY)\n",
        "            costs.append(cost)\n",
        "            accs.append(acc)\n",
        "\n",
        "        if report > 0 and (epoch+1) % report == 0:\n",
        "            vaX, vaY = self.dataset.get_validate_data(100)\n",
        "            acc = self.eval_accuracy(vaX, vaY)\n",
        "            time3 = int(time.time())\n",
        "            tm1, tm2 = time3-time2, time3-time1\n",
        "            self.dataset.train_prt_result(epoch+1, costs, accs, acc, tm1, tm2)\n",
        "            time2 = time3\n",
        "\n",
        "    tm_total = int(time.time()) - time1\n",
        "    print(f'Model {self.name} trian ended in {tm_total} secs:')"
      ],
      "metadata": {
        "execution": {
          "iopub.status.busy": "2024-08-23T09:55:22.477885Z",
          "iopub.execute_input": "2024-08-23T09:55:22.47835Z",
          "iopub.status.idle": "2024-08-23T09:55:22.492657Z",
          "shell.execute_reply.started": "2024-08-23T09:55:22.478284Z",
          "shell.execute_reply": "2024-08-23T09:55:22.491276Z"
        },
        "trusted": true,
        "id": "cLGy3Uwe2pI1"
      },
      "execution_count": null,
      "outputs": []
    },
    {
      "cell_type": "code",
      "source": [
        "MlpModel.train = mlp_model_train"
      ],
      "metadata": {
        "execution": {
          "iopub.status.busy": "2024-08-23T09:55:22.494506Z",
          "iopub.execute_input": "2024-08-23T09:55:22.494963Z",
          "iopub.status.idle": "2024-08-23T09:55:22.506678Z",
          "shell.execute_reply.started": "2024-08-23T09:55:22.494919Z",
          "shell.execute_reply": "2024-08-23T09:55:22.504902Z"
        },
        "trusted": true,
        "id": "zwGw_mGQ2pI1"
      },
      "execution_count": null,
      "outputs": []
    },
    {
      "cell_type": "code",
      "source": [
        "def mlp_model_test(self):\n",
        "    teX, teY = self.dataset.get_test_data()\n",
        "    time1 = int(time.time())\n",
        "    acc = self.eval_accuracy(teX, teY)\n",
        "    time2 = int(time.time())\n",
        "    self.dataset.test_prt_result(self.name, acc, time2-time1)"
      ],
      "metadata": {
        "execution": {
          "iopub.status.busy": "2024-08-23T09:55:22.511881Z",
          "iopub.execute_input": "2024-08-23T09:55:22.512477Z",
          "iopub.status.idle": "2024-08-23T09:55:22.521597Z",
          "shell.execute_reply.started": "2024-08-23T09:55:22.512419Z",
          "shell.execute_reply": "2024-08-23T09:55:22.520243Z"
        },
        "trusted": true,
        "id": "q9C6QG-Q2pI2"
      },
      "execution_count": null,
      "outputs": []
    },
    {
      "cell_type": "code",
      "source": [
        "MlpModel.test = mlp_model_test"
      ],
      "metadata": {
        "execution": {
          "iopub.status.busy": "2024-08-23T09:55:22.524999Z",
          "iopub.execute_input": "2024-08-23T09:55:22.525787Z",
          "iopub.status.idle": "2024-08-23T09:55:22.53454Z",
          "shell.execute_reply.started": "2024-08-23T09:55:22.525729Z",
          "shell.execute_reply": "2024-08-23T09:55:22.532796Z"
        },
        "trusted": true,
        "id": "XMjbYjtl2pI2"
      },
      "execution_count": null,
      "outputs": []
    },
    {
      "cell_type": "code",
      "source": [
        "def mlp_model_visualize(self, num):\n",
        "    print(f'Model {self.name} Visualization')\n",
        "    deX, deY = self.dataset.get_visualize_data(num)\n",
        "    est = self.get_estimate(deX)\n",
        "    self.dataset.visualize(deX, est, deY)"
      ],
      "metadata": {
        "execution": {
          "iopub.status.busy": "2024-08-23T09:55:22.536639Z",
          "iopub.execute_input": "2024-08-23T09:55:22.537204Z",
          "iopub.status.idle": "2024-08-23T09:55:22.548059Z",
          "shell.execute_reply.started": "2024-08-23T09:55:22.537127Z",
          "shell.execute_reply": "2024-08-23T09:55:22.546177Z"
        },
        "trusted": true,
        "id": "duEuOSnu2pI2"
      },
      "execution_count": null,
      "outputs": []
    },
    {
      "cell_type": "code",
      "source": [
        "MlpModel.visualize = mlp_model_visualize"
      ],
      "metadata": {
        "execution": {
          "iopub.status.busy": "2024-08-23T09:55:22.55007Z",
          "iopub.execute_input": "2024-08-23T09:55:22.550684Z",
          "iopub.status.idle": "2024-08-23T09:55:22.562823Z",
          "shell.execute_reply.started": "2024-08-23T09:55:22.550627Z",
          "shell.execute_reply": "2024-08-23T09:55:22.561029Z"
        },
        "trusted": true,
        "id": "P84mx88H2pI3"
      },
      "execution_count": null,
      "outputs": []
    },
    {
      "cell_type": "code",
      "source": [
        "def mlp_train_step(self, x, y):\n",
        "    self.is_training = True\n",
        "\n",
        "    output, aux_nn = self.forward_neuralnet(x)\n",
        "    loss, aux_pp = self.forward_postproc(output, y)\n",
        "    accuracy = self.eval_accuracy(x, y, output)\n",
        "\n",
        "    G_loss = 1.0\n",
        "    G_output = self.backprop_postproc(G_loss, aux_pp)\n",
        "    self.backprop_neuralnet(G_output, aux_nn)\n",
        "\n",
        "    self.is_training = False\n",
        "\n",
        "    return loss, accuracy"
      ],
      "metadata": {
        "execution": {
          "iopub.status.busy": "2024-08-23T09:55:22.568061Z",
          "iopub.execute_input": "2024-08-23T09:55:22.568645Z",
          "iopub.status.idle": "2024-08-23T09:55:22.577566Z",
          "shell.execute_reply.started": "2024-08-23T09:55:22.568583Z",
          "shell.execute_reply": "2024-08-23T09:55:22.576259Z"
        },
        "trusted": true,
        "id": "I7-YwzcD2pI4"
      },
      "execution_count": null,
      "outputs": []
    },
    {
      "cell_type": "code",
      "source": [
        "MlpModel.train_step = mlp_train_step"
      ],
      "metadata": {
        "execution": {
          "iopub.status.busy": "2024-08-23T09:55:22.579485Z",
          "iopub.execute_input": "2024-08-23T09:55:22.579969Z",
          "iopub.status.idle": "2024-08-23T09:55:22.59667Z",
          "shell.execute_reply.started": "2024-08-23T09:55:22.579923Z",
          "shell.execute_reply": "2024-08-23T09:55:22.595034Z"
        },
        "trusted": true,
        "id": "IpBpHkhf2pI4"
      },
      "execution_count": null,
      "outputs": []
    },
    {
      "cell_type": "code",
      "source": [
        "def mlp_forward_neuralnet(self, x):\n",
        "    hidden = x\n",
        "    aux_layers = []\n",
        "\n",
        "    for n, hconfig in enumerate(self.hconfigs):\n",
        "        hidden, aux = self.forward_layer(hidden, hconfig, self.pm_hiddens[n])\n",
        "        aux_layers.append(aux)\n",
        "\n",
        "    output, aux_out = self.forward_layer(hidden, None, self.pm_output)\n",
        "\n",
        "    return output, [aux_out, aux_layers]"
      ],
      "metadata": {
        "execution": {
          "iopub.status.busy": "2024-08-23T09:55:22.599107Z",
          "iopub.execute_input": "2024-08-23T09:55:22.599699Z",
          "iopub.status.idle": "2024-08-23T09:55:22.610967Z",
          "shell.execute_reply.started": "2024-08-23T09:55:22.599638Z",
          "shell.execute_reply": "2024-08-23T09:55:22.609296Z"
        },
        "trusted": true,
        "id": "DYkuN8QC2pI4"
      },
      "execution_count": null,
      "outputs": []
    },
    {
      "cell_type": "code",
      "source": [
        "def mlp_backprop_neuralnet(self, G_output, aux):\n",
        "    aux_out, aux_layers = aux\n",
        "\n",
        "    G_hidden = self.backprop_layer(G_output, None, self.pm_output, aux_out)\n",
        "\n",
        "    for n in reversed(range(len(self.hconfigs))):\n",
        "        hconfig, pm, aux = self.hconfigs[n], self.pm_hiddens[n], aux_layers[n]\n",
        "        G_hidden = self.backprop_layer(G_hidden, hconfig, pm, aux)\n",
        "\n",
        "    return G_hidden"
      ],
      "metadata": {
        "execution": {
          "iopub.status.busy": "2024-08-23T09:55:22.613311Z",
          "iopub.execute_input": "2024-08-23T09:55:22.614047Z",
          "iopub.status.idle": "2024-08-23T09:55:22.625688Z",
          "shell.execute_reply.started": "2024-08-23T09:55:22.61398Z",
          "shell.execute_reply": "2024-08-23T09:55:22.623476Z"
        },
        "trusted": true,
        "id": "ZpSdnyyW2pI4"
      },
      "execution_count": null,
      "outputs": []
    },
    {
      "cell_type": "code",
      "source": [
        "MlpModel.forward_neuralnet = mlp_forward_neuralnet\n",
        "MlpModel.backprop_neuralnet = mlp_backprop_neuralnet"
      ],
      "metadata": {
        "execution": {
          "iopub.status.busy": "2024-08-23T09:55:22.628015Z",
          "iopub.execute_input": "2024-08-23T09:55:22.628745Z",
          "iopub.status.idle": "2024-08-23T09:55:22.639954Z",
          "shell.execute_reply.started": "2024-08-23T09:55:22.628677Z",
          "shell.execute_reply": "2024-08-23T09:55:22.638301Z"
        },
        "trusted": true,
        "id": "TQBYAROw2pI4"
      },
      "execution_count": null,
      "outputs": []
    },
    {
      "cell_type": "code",
      "source": [
        "def mlp_forward_layer(self, x, hconfig, pm):\n",
        "    y = np.matmul(x, pm['x']) + pm['b']\n",
        "    if hconfig is not None:  y = relu(y)\n",
        "    return y, [x,y]"
      ],
      "metadata": {
        "execution": {
          "iopub.status.busy": "2024-08-23T09:55:22.642098Z",
          "iopub.execute_input": "2024-08-23T09:55:22.64266Z",
          "iopub.status.idle": "2024-08-23T09:55:22.6544Z",
          "shell.execute_reply.started": "2024-08-23T09:55:22.642592Z",
          "shell.execute_reply": "2024-08-23T09:55:22.652346Z"
        },
        "trusted": true,
        "id": "zvrNGRFg2pI5"
      },
      "execution_count": null,
      "outputs": []
    },
    {
      "cell_type": "code",
      "source": [
        "def mlp_backprop_layer(self, G_y, hconfig, pm, aux):\n",
        "    x, y = aux\n",
        "\n",
        "    if hconfig is not None:  G_y = relu_derv(y) * G_y\n",
        "\n",
        "    g_y_weight = x.transpose()\n",
        "    g_y_input = pm['w'].transpose()\n",
        "\n",
        "    G_weight = np.matmul(g_y_weight, G_y)\n",
        "    G_bias = np.sum(G_y, axis=0)\n",
        "    G_input = np.matmul(G_y, g_y_input)\n",
        "\n",
        "    pm['w'] -= self.learning_rate * G_weight\n",
        "    pm['b'] -= self.learning_rate * G_bias\n",
        "\n",
        "    return G_input"
      ],
      "metadata": {
        "execution": {
          "iopub.status.busy": "2024-08-23T09:55:22.656259Z",
          "iopub.execute_input": "2024-08-23T09:55:22.656798Z",
          "iopub.status.idle": "2024-08-23T09:55:22.668138Z",
          "shell.execute_reply.started": "2024-08-23T09:55:22.656708Z",
          "shell.execute_reply": "2024-08-23T09:55:22.666852Z"
        },
        "trusted": true,
        "id": "FPGL6gxo2pI5"
      },
      "execution_count": null,
      "outputs": []
    },
    {
      "cell_type": "code",
      "source": [
        "MlpModel.forward_layer = mlp_forward_layer\n",
        "MlpModel.backprop_layer = mlp_backprop_layer"
      ],
      "metadata": {
        "execution": {
          "iopub.status.busy": "2024-08-23T09:55:22.669771Z",
          "iopub.execute_input": "2024-08-23T09:55:22.670181Z",
          "iopub.status.idle": "2024-08-23T09:55:22.679457Z",
          "shell.execute_reply.started": "2024-08-23T09:55:22.670116Z",
          "shell.execute_reply": "2024-08-23T09:55:22.678177Z"
        },
        "trusted": true,
        "id": "4uv12R6e2pI5"
      },
      "execution_count": null,
      "outputs": []
    },
    {
      "cell_type": "code",
      "source": [
        "def mlp_forward_postproc(self, output, y):\n",
        "    loss, aux_loss = self.dataset.forward_postproc(output, y)\n",
        "    extra, aux_extra = self.forward_extra_cost(y)\n",
        "    return loss + extra, [aux_loss, aux_extra]"
      ],
      "metadata": {
        "execution": {
          "iopub.status.busy": "2024-08-23T09:55:22.680812Z",
          "iopub.execute_input": "2024-08-23T09:55:22.681214Z",
          "iopub.status.idle": "2024-08-23T09:55:22.693678Z",
          "shell.execute_reply.started": "2024-08-23T09:55:22.68113Z",
          "shell.execute_reply": "2024-08-23T09:55:22.691608Z"
        },
        "trusted": true,
        "id": "6kmFdPF82pI5"
      },
      "execution_count": null,
      "outputs": []
    },
    {
      "cell_type": "code",
      "source": [
        "def mlp_forward_extra_cost(self, y):\n",
        "    return 0, None"
      ],
      "metadata": {
        "execution": {
          "iopub.status.busy": "2024-08-23T09:55:22.700682Z",
          "iopub.execute_input": "2024-08-23T09:55:22.70188Z",
          "iopub.status.idle": "2024-08-23T09:55:22.709456Z",
          "shell.execute_reply.started": "2024-08-23T09:55:22.701809Z",
          "shell.execute_reply": "2024-08-23T09:55:22.708229Z"
        },
        "trusted": true,
        "id": "GLjQgaJb2pI5"
      },
      "execution_count": null,
      "outputs": []
    },
    {
      "cell_type": "code",
      "source": [
        "MlpModel.forward_postproc = mlp_forward_postproc\n",
        "MlpModel.forward_extra_cost = mlp_forward_extra_cost"
      ],
      "metadata": {
        "execution": {
          "iopub.status.busy": "2024-08-23T09:55:22.711445Z",
          "iopub.execute_input": "2024-08-23T09:55:22.711826Z",
          "iopub.status.idle": "2024-08-23T09:55:22.724672Z",
          "shell.execute_reply.started": "2024-08-23T09:55:22.711786Z",
          "shell.execute_reply": "2024-08-23T09:55:22.722945Z"
        },
        "trusted": true,
        "id": "92MWC5lg2pI6"
      },
      "execution_count": null,
      "outputs": []
    },
    {
      "cell_type": "code",
      "source": [
        "def mlp_backprop_postproc(self, G_loss, aux):\n",
        "    aux_loss, aux_extra = aux\n",
        "    self.backprop_extra_cost(G_loss, aux_extra)\n",
        "    G_output = self.dataset.backprop_postproc(G_loss, aux_loss)\n",
        "    return G_output"
      ],
      "metadata": {
        "execution": {
          "iopub.status.busy": "2024-08-23T09:55:22.726809Z",
          "iopub.execute_input": "2024-08-23T09:55:22.728283Z",
          "iopub.status.idle": "2024-08-23T09:55:22.738947Z",
          "shell.execute_reply.started": "2024-08-23T09:55:22.72819Z",
          "shell.execute_reply": "2024-08-23T09:55:22.736992Z"
        },
        "trusted": true,
        "id": "N6ExFhkI2pI6"
      },
      "execution_count": null,
      "outputs": []
    },
    {
      "cell_type": "code",
      "source": [
        "def mlp_backprop_extra_cost(self, G_loss, aux):\n",
        "    pass"
      ],
      "metadata": {
        "execution": {
          "iopub.status.busy": "2024-08-23T09:55:22.740905Z",
          "iopub.execute_input": "2024-08-23T09:55:22.741393Z",
          "iopub.status.idle": "2024-08-23T09:55:22.752765Z",
          "shell.execute_reply.started": "2024-08-23T09:55:22.741349Z",
          "shell.execute_reply": "2024-08-23T09:55:22.751025Z"
        },
        "trusted": true,
        "id": "uegAepYU2pI6"
      },
      "execution_count": null,
      "outputs": []
    },
    {
      "cell_type": "code",
      "source": [
        "MlpModel.backprop_postproc = mlp_backprop_postproc\n",
        "MlpModel.backprop_extra_cost = mlp_backprop_extra_cost"
      ],
      "metadata": {
        "execution": {
          "iopub.status.busy": "2024-08-23T09:55:22.755214Z",
          "iopub.execute_input": "2024-08-23T09:55:22.755819Z",
          "iopub.status.idle": "2024-08-23T09:55:22.768636Z",
          "shell.execute_reply.started": "2024-08-23T09:55:22.755758Z",
          "shell.execute_reply": "2024-08-23T09:55:22.766876Z"
        },
        "trusted": true,
        "id": "sgivnAjm2pI6"
      },
      "execution_count": null,
      "outputs": []
    },
    {
      "cell_type": "code",
      "source": [
        "def mlp_eval_accuracy(self, x, y, output=None):\n",
        "    if output is None:\n",
        "        output, _ = self.forward_neuralnet(x)\n",
        "    accuracy = self.dataset.eval_accuracy(x, y, output)\n",
        "    return accuracy"
      ],
      "metadata": {
        "execution": {
          "iopub.status.busy": "2024-08-23T09:55:22.770524Z",
          "iopub.execute_input": "2024-08-23T09:55:22.771587Z",
          "iopub.status.idle": "2024-08-23T09:55:22.782989Z",
          "shell.execute_reply.started": "2024-08-23T09:55:22.771505Z",
          "shell.execute_reply": "2024-08-23T09:55:22.781517Z"
        },
        "trusted": true,
        "id": "MKKSEojq2pI6"
      },
      "execution_count": null,
      "outputs": []
    },
    {
      "cell_type": "code",
      "source": [
        "MlpModel.eval_accuracy = mlp_eval_accuracy"
      ],
      "metadata": {
        "execution": {
          "iopub.status.busy": "2024-08-23T09:55:22.784763Z",
          "iopub.execute_input": "2024-08-23T09:55:22.785455Z",
          "iopub.status.idle": "2024-08-23T09:55:22.795701Z",
          "shell.execute_reply.started": "2024-08-23T09:55:22.78538Z",
          "shell.execute_reply": "2024-08-23T09:55:22.794079Z"
        },
        "trusted": true,
        "id": "7zjjQZn_2pI6"
      },
      "execution_count": null,
      "outputs": []
    },
    {
      "cell_type": "code",
      "source": [
        "def mlp_get_estimate(self, x):\n",
        "    output, _ = self.forward_neuralnet(x)\n",
        "    estimate = self.dataset.get_estimate(output)\n",
        "    return estimate"
      ],
      "metadata": {
        "execution": {
          "iopub.status.busy": "2024-08-23T09:55:22.797506Z",
          "iopub.execute_input": "2024-08-23T09:55:22.800851Z",
          "iopub.status.idle": "2024-08-23T09:55:22.809119Z",
          "shell.execute_reply.started": "2024-08-23T09:55:22.800787Z",
          "shell.execute_reply": "2024-08-23T09:55:22.807752Z"
        },
        "trusted": true,
        "id": "C3lk99RP2pI7"
      },
      "execution_count": null,
      "outputs": []
    },
    {
      "cell_type": "code",
      "source": [
        "MlpModel.get_estimate = mlp_get_estimate"
      ],
      "metadata": {
        "execution": {
          "iopub.status.busy": "2024-08-23T09:55:22.810421Z",
          "iopub.execute_input": "2024-08-23T09:55:22.810931Z",
          "iopub.status.idle": "2024-08-23T09:55:22.824546Z",
          "shell.execute_reply.started": "2024-08-23T09:55:22.810887Z",
          "shell.execute_reply": "2024-08-23T09:55:22.822991Z"
        },
        "trusted": true,
        "id": "z8llIrrm2pI7"
      },
      "execution_count": null,
      "outputs": []
    },
    {
      "cell_type": "code",
      "source": [
        "class Dataset(object):\n",
        "    def __init__(self, name, mode):\n",
        "        self.name = name\n",
        "        self.mode = mode\n",
        "\n",
        "    def __str__(self):\n",
        "        return f'{self.name}({self.mode}, {len(self.tr_xs)}+{len(self.te_xs)}+{len(self.va_xs)})'\n",
        "\n",
        "    @property\n",
        "    def train_count(self):\n",
        "        return len(self.tr_xs)"
      ],
      "metadata": {
        "execution": {
          "iopub.status.busy": "2024-08-23T09:55:22.826362Z",
          "iopub.execute_input": "2024-08-23T09:55:22.827083Z",
          "iopub.status.idle": "2024-08-23T09:55:22.841202Z",
          "shell.execute_reply.started": "2024-08-23T09:55:22.827034Z",
          "shell.execute_reply": "2024-08-23T09:55:22.839336Z"
        },
        "trusted": true,
        "id": "IUQOIj1q2pI7"
      },
      "execution_count": null,
      "outputs": []
    },
    {
      "cell_type": "code",
      "source": [
        "def dataset_get_train_data(self, batch_size, nth):\n",
        "    from_idx = nth * batch_size\n",
        "    to_idx = (nth + 1) * batch_size\n",
        "\n",
        "    tr_X = self.tr_xs[self.indices[from_idx:to_idx]]\n",
        "    tr_Y = self.tr_ys[self.indices[from_idx:to_idx]]\n",
        "\n",
        "    return tr_X, tr_Y"
      ],
      "metadata": {
        "_kg_hide-input": true,
        "execution": {
          "iopub.status.busy": "2024-08-23T09:55:22.84365Z",
          "iopub.execute_input": "2024-08-23T09:55:22.844303Z",
          "iopub.status.idle": "2024-08-23T09:55:22.856882Z",
          "shell.execute_reply.started": "2024-08-23T09:55:22.84424Z",
          "shell.execute_reply": "2024-08-23T09:55:22.855273Z"
        },
        "trusted": true,
        "id": "c2wPEcDG2pI7"
      },
      "execution_count": null,
      "outputs": []
    },
    {
      "cell_type": "code",
      "source": [
        "def dataset_shuffle_train_data(self, size):\n",
        "    self.indices = np.arange(size)\n",
        "    np.random.shuffle(self.indices)"
      ],
      "metadata": {
        "_kg_hide-input": true,
        "execution": {
          "iopub.status.busy": "2024-08-23T09:55:22.860124Z",
          "iopub.execute_input": "2024-08-23T09:55:22.860739Z",
          "iopub.status.idle": "2024-08-23T09:55:22.873087Z",
          "shell.execute_reply.started": "2024-08-23T09:55:22.860677Z",
          "shell.execute_reply": "2024-08-23T09:55:22.871748Z"
        },
        "trusted": true,
        "id": "MgnEgsZv2pI7"
      },
      "execution_count": null,
      "outputs": []
    },
    {
      "cell_type": "code",
      "source": [
        "Dataset.get_train_data = dataset_get_train_data\n",
        "Dataset.shuffle_train_data = dataset_shuffle_train_data"
      ],
      "metadata": {
        "execution": {
          "iopub.status.busy": "2024-08-23T09:55:22.875469Z",
          "iopub.execute_input": "2024-08-23T09:55:22.876Z",
          "iopub.status.idle": "2024-08-23T09:55:22.894933Z",
          "shell.execute_reply.started": "2024-08-23T09:55:22.875943Z",
          "shell.execute_reply": "2024-08-23T09:55:22.89338Z"
        },
        "trusted": true,
        "id": "uyCVbUc-2pI8"
      },
      "execution_count": null,
      "outputs": []
    },
    {
      "cell_type": "code",
      "source": [
        "def dataset_get_test_data(self):\n",
        "    return self.te_xs, self.te_ys"
      ],
      "metadata": {
        "execution": {
          "iopub.status.busy": "2024-08-23T09:55:22.899088Z",
          "iopub.execute_input": "2024-08-23T09:55:22.899777Z",
          "iopub.status.idle": "2024-08-23T09:55:22.908844Z",
          "shell.execute_reply.started": "2024-08-23T09:55:22.899662Z",
          "shell.execute_reply": "2024-08-23T09:55:22.907492Z"
        },
        "trusted": true,
        "id": "J2GL_0Qo2pI8"
      },
      "execution_count": null,
      "outputs": []
    },
    {
      "cell_type": "code",
      "source": [
        "Dataset.get_test_data = dataset_get_test_data"
      ],
      "metadata": {
        "execution": {
          "iopub.status.busy": "2024-08-23T09:55:22.911104Z",
          "iopub.execute_input": "2024-08-23T09:55:22.911665Z",
          "iopub.status.idle": "2024-08-23T09:55:22.924567Z",
          "shell.execute_reply.started": "2024-08-23T09:55:22.911611Z",
          "shell.execute_reply": "2024-08-23T09:55:22.9229Z"
        },
        "trusted": true,
        "id": "584vPyBH2pI8"
      },
      "execution_count": null,
      "outputs": []
    },
    {
      "cell_type": "code",
      "source": [
        "def dataset_get_validate_data(self, count):\n",
        "    self.va_indices = np.arange(len(self.va_xs))\n",
        "    np.random.shuffle(self.va_indices)\n",
        "\n",
        "    va_X = self.va_xs[self.va_indices[0:count]]\n",
        "    va_Y = self.va_ys[self.va_indices[0:count]]\n",
        "\n",
        "    return va_X, va_Y"
      ],
      "metadata": {
        "execution": {
          "iopub.status.busy": "2024-08-23T09:55:22.928464Z",
          "iopub.execute_input": "2024-08-23T09:55:22.928896Z",
          "iopub.status.idle": "2024-08-23T09:55:22.93918Z",
          "shell.execute_reply.started": "2024-08-23T09:55:22.928853Z",
          "shell.execute_reply": "2024-08-23T09:55:22.937057Z"
        },
        "trusted": true,
        "id": "AVr36oTL2pI8"
      },
      "execution_count": null,
      "outputs": []
    },
    {
      "cell_type": "code",
      "source": [
        "Dataset.get_validate_data = dataset_get_validate_data\n",
        "Dataset.get_visualize_data = dataset_get_validate_data"
      ],
      "metadata": {
        "execution": {
          "iopub.status.busy": "2024-08-23T09:55:22.941126Z",
          "iopub.execute_input": "2024-08-23T09:55:22.942558Z",
          "iopub.status.idle": "2024-08-23T09:55:22.949733Z",
          "shell.execute_reply.started": "2024-08-23T09:55:22.942503Z",
          "shell.execute_reply": "2024-08-23T09:55:22.948276Z"
        },
        "trusted": true,
        "id": "xkh4_99W2pJN"
      },
      "execution_count": null,
      "outputs": []
    },
    {
      "cell_type": "code",
      "source": [
        "def dataset_shuffle_data(self, xs, ys, tr_ratio=0.8, va_ratio=0.05):\n",
        "    data_count = len(xs)\n",
        "\n",
        "    tr_cnt = int(data_count * tr_ratio / 10) * 10\n",
        "    va_cnt = int(data_count * va_ratio)\n",
        "    te_cnt = data_count - (tr_cnt + va_cnt)\n",
        "\n",
        "    tr_from, tr_to = 0, tr_cnt\n",
        "    va_from, va_to = tr_cnt, tr_cnt + va_cnt\n",
        "    te_from, te_to = tr_cnt + va_cnt, data_count\n",
        "\n",
        "    indicies = np.arange(data_count)\n",
        "    np.random.shuffle(indices)\n",
        "\n",
        "    self.tr_xs = xs[indices[tr_from:tr_to]]\n",
        "    self.tr_ys = ys[indices[tr_from:tr_to]]\n",
        "    self.va_xs = xs[indices[va_from:va_to]]\n",
        "    self.va_ys = ys[indices[va_from:va_to]]\n",
        "    self.te_xs = xs[indices[te_from:te_to]]\n",
        "    self.te_ys = ys[indices[te_from:te_to]]\n",
        "\n",
        "    self.input_shape = xs[0].shape\n",
        "    self.output_shape = ys[0].shape\n",
        "\n",
        "    return indices[tr_from:tr_to], indices[va_from, va_to], indices[te_from:te_to]"
      ],
      "metadata": {
        "execution": {
          "iopub.status.busy": "2024-08-23T09:55:22.952257Z",
          "iopub.execute_input": "2024-08-23T09:55:22.953055Z",
          "iopub.status.idle": "2024-08-23T09:55:22.970472Z",
          "shell.execute_reply.started": "2024-08-23T09:55:22.952965Z",
          "shell.execute_reply": "2024-08-23T09:55:22.968491Z"
        },
        "trusted": true,
        "id": "gkghHo_w2pJO"
      },
      "execution_count": null,
      "outputs": []
    },
    {
      "cell_type": "code",
      "source": [
        "Dataset.shuffle_data = dataset_shuffle_data"
      ],
      "metadata": {
        "execution": {
          "iopub.status.busy": "2024-08-23T09:55:22.973345Z",
          "iopub.execute_input": "2024-08-23T09:55:22.973938Z",
          "iopub.status.idle": "2024-08-23T09:55:22.982815Z",
          "shell.execute_reply.started": "2024-08-23T09:55:22.973876Z",
          "shell.execute_reply": "2024-08-23T09:55:22.981116Z"
        },
        "trusted": true,
        "id": "MeAFOilM2pJO"
      },
      "execution_count": null,
      "outputs": []
    },
    {
      "cell_type": "code",
      "source": [
        "def dataset_forward_postproc(self, output, y, mode=None):\n",
        "    if mode is None:  mode = self.mode\n",
        "\n",
        "    if mode == 'regression':\n",
        "        diff = output - y\n",
        "        square = np.square(diff)\n",
        "        loss = np.mean(square)\n",
        "        aux = diff\n",
        "    elif mode == 'binary':\n",
        "        entropy = sigmoid_cross_entropy_with_logits(y, output)\n",
        "        loss = np.mean(entropy)\n",
        "        aux = [y, output]\n",
        "    elif mode == 'select':\n",
        "        entropy = softmax_cross_entropy_with_logits(y, output)\n",
        "        loss = np.mean(entropy)\n",
        "        aux = [output, y, entropy]\n",
        "\n",
        "    return loss, aux"
      ],
      "metadata": {
        "execution": {
          "iopub.status.busy": "2024-08-23T09:55:22.985064Z",
          "iopub.execute_input": "2024-08-23T09:55:22.985659Z",
          "iopub.status.idle": "2024-08-23T09:55:22.998011Z",
          "shell.execute_reply.started": "2024-08-23T09:55:22.985583Z",
          "shell.execute_reply": "2024-08-23T09:55:22.996376Z"
        },
        "trusted": true,
        "id": "C_WhlL8q2pJO"
      },
      "execution_count": null,
      "outputs": []
    },
    {
      "cell_type": "code",
      "source": [
        "Dataset.forward_postproc = dataset_forward_postproc"
      ],
      "metadata": {
        "execution": {
          "iopub.status.busy": "2024-08-23T09:55:49.019127Z",
          "iopub.execute_input": "2024-08-23T09:55:49.019633Z",
          "iopub.status.idle": "2024-08-23T09:55:49.026304Z",
          "shell.execute_reply.started": "2024-08-23T09:55:49.019584Z",
          "shell.execute_reply": "2024-08-23T09:55:49.024553Z"
        },
        "trusted": true,
        "id": "IC2OIQhD2pJP"
      },
      "execution_count": null,
      "outputs": []
    },
    {
      "cell_type": "code",
      "source": [
        "def dataset_backprop_postproc(self, G_loss, aux, mode=None):\n",
        "    if mode is None:  mode = self.mode\n",
        "\n",
        "    if mode == 'regression':\n",
        "        diff = aux\n",
        "        shape = diff.shape\n",
        "\n",
        "        g_loss_square = np.ones(shape) / np.prod(shape)\n",
        "        g_square_diff = 2 * diff\n",
        "        g_diff_output = 1\n",
        "\n",
        "        G_square = g_loss_square * G_loss\n",
        "        G_diff = g_square_diff * G_square\n",
        "        G_output = g_diff_output * G_diff\n",
        "    elif mode == 'binary':\n",
        "        y, output = aux\n",
        "        shape = output.shape\n",
        "\n",
        "        g_loss_entropy = np.ones(shape) / np.prod(shape)\n",
        "        g_entropy_output = sigmoid_cross_entropy_with_logits_derv(y, output)\n",
        "\n",
        "        G_entropy = g_loss_entropy * G_loss\n",
        "        G_output = g_entropy_output * G_entropy\n",
        "    elif mode == 'select':\n",
        "        output, y, entropy = aux\n",
        "\n",
        "        g_loss_entropy = 1.0 / np.prod(entropy.shape)\n",
        "        g_entropy_output = softmax_cross_entropy_with_logits_derv(y, output)\n",
        "\n",
        "        G_entropy = g_loss_entropy * G_loss\n",
        "        G_output = g_entropy_output * G_entropy\n",
        "\n",
        "    return G_output"
      ],
      "metadata": {
        "execution": {
          "iopub.status.busy": "2024-08-23T10:02:36.377653Z",
          "iopub.execute_input": "2024-08-23T10:02:36.378131Z",
          "iopub.status.idle": "2024-08-23T10:02:36.389571Z",
          "shell.execute_reply.started": "2024-08-23T10:02:36.378089Z",
          "shell.execute_reply": "2024-08-23T10:02:36.38806Z"
        },
        "trusted": true,
        "id": "L_Sdy3nP2pJP"
      },
      "execution_count": null,
      "outputs": []
    },
    {
      "cell_type": "code",
      "source": [
        "Dataset.backprop_postproc = dataset_backprop_postproc"
      ],
      "metadata": {
        "execution": {
          "iopub.status.busy": "2024-08-23T10:02:57.844234Z",
          "iopub.execute_input": "2024-08-23T10:02:57.844752Z",
          "iopub.status.idle": "2024-08-23T10:02:57.851147Z",
          "shell.execute_reply.started": "2024-08-23T10:02:57.844708Z",
          "shell.execute_reply": "2024-08-23T10:02:57.849642Z"
        },
        "trusted": true,
        "id": "IovlGn362pJQ"
      },
      "execution_count": null,
      "outputs": []
    },
    {
      "cell_type": "code",
      "source": [
        "def dataset_eval_accuracy(self, x, y, output, mode=None):\n",
        "    if mode is None:  mode = self.mode\n",
        "\n",
        "    if mode == 'regression':\n",
        "        mse = np.mean(np.square(output - y))\n",
        "        accuracy = 1 - np.sqrt(mse) / np.mean(y)\n",
        "    elif mode == 'binary':\n",
        "        estimate = np.greater(output, 0)\n",
        "        answer = np.equal(y, 1.0)\n",
        "        correct = np.equal(estimate, answer)\n",
        "        accuracy = np.mean(correct)\n",
        "    elif mode == 'select':\n",
        "        estimate = np.argmax(output, axis=1)\n",
        "        answer = np.argmax(y, axis=1)\n",
        "        correct = np.equal(estimate, answer)\n",
        "        accuracy = np.mean(correct)\n",
        "\n",
        "    return accuracy"
      ],
      "metadata": {
        "execution": {
          "iopub.status.busy": "2024-08-23T10:09:55.875531Z",
          "iopub.execute_input": "2024-08-23T10:09:55.87599Z",
          "iopub.status.idle": "2024-08-23T10:09:55.886147Z",
          "shell.execute_reply.started": "2024-08-23T10:09:55.87595Z",
          "shell.execute_reply": "2024-08-23T10:09:55.88463Z"
        },
        "trusted": true,
        "id": "oj4nnABo2pJQ"
      },
      "execution_count": null,
      "outputs": []
    },
    {
      "cell_type": "code",
      "source": [
        "Dataset.eval_accuracy = dataset_eval_accuracy"
      ],
      "metadata": {
        "execution": {
          "iopub.status.busy": "2024-08-23T10:10:10.814384Z",
          "iopub.execute_input": "2024-08-23T10:10:10.815446Z",
          "iopub.status.idle": "2024-08-23T10:10:10.822178Z",
          "shell.execute_reply.started": "2024-08-23T10:10:10.815389Z",
          "shell.execute_reply": "2024-08-23T10:10:10.82018Z"
        },
        "trusted": true,
        "id": "7QDnSUMx2pJR"
      },
      "execution_count": null,
      "outputs": []
    },
    {
      "cell_type": "code",
      "source": [
        "def dataset_get_estimate(self, output, mode=None):\n",
        "    if mode is None:  mode = self.mode\n",
        "\n",
        "    if mode == 'regression':\n",
        "        estimate = output\n",
        "    elif mode == 'binary':\n",
        "        estimate = sigmoid(output)\n",
        "    elif mode == 'select':\n",
        "        estimate = softmax(output)\n",
        "\n",
        "    return estimate"
      ],
      "metadata": {
        "execution": {
          "iopub.status.busy": "2024-08-23T10:11:40.02258Z",
          "iopub.execute_input": "2024-08-23T10:11:40.023061Z",
          "iopub.status.idle": "2024-08-23T10:11:40.031404Z",
          "shell.execute_reply.started": "2024-08-23T10:11:40.023015Z",
          "shell.execute_reply": "2024-08-23T10:11:40.029384Z"
        },
        "trusted": true,
        "id": "C0CGuNLC2pJS"
      },
      "execution_count": null,
      "outputs": []
    },
    {
      "cell_type": "code",
      "source": [
        "Dataset.get_estimate = dataset_get_estimate"
      ],
      "metadata": {
        "execution": {
          "iopub.status.busy": "2024-08-23T10:11:51.058662Z",
          "iopub.execute_input": "2024-08-23T10:11:51.059089Z",
          "iopub.status.idle": "2024-08-23T10:11:51.065209Z",
          "shell.execute_reply.started": "2024-08-23T10:11:51.059049Z",
          "shell.execute_reply": "2024-08-23T10:11:51.063722Z"
        },
        "trusted": true,
        "id": "6ZD6GzcE2pJT"
      },
      "execution_count": null,
      "outputs": []
    },
    {
      "cell_type": "code",
      "source": [
        "def dataset_train_prt_result(self, epoch, costs, accs, acc, time1, time2):\n",
        "    print(f'    Epoch {epoch}: cost={np.mean(costs):5.3f}, accuracy={np.mean(accs):5.3f}/{acc:5.3f} ({time1}/{time2} secs)')"
      ],
      "metadata": {
        "execution": {
          "iopub.status.busy": "2024-08-23T10:13:43.967288Z",
          "iopub.execute_input": "2024-08-23T10:13:43.96827Z",
          "iopub.status.idle": "2024-08-23T10:13:43.974452Z",
          "shell.execute_reply.started": "2024-08-23T10:13:43.968221Z",
          "shell.execute_reply": "2024-08-23T10:13:43.972857Z"
        },
        "trusted": true,
        "id": "y9YTK8OL2pJT"
      },
      "execution_count": null,
      "outputs": []
    },
    {
      "cell_type": "code",
      "source": [
        "def dataset_test_prt_result(self, name, acc, time):\n",
        "    print(f'Model {name} test report: accuracy = {acc:5.3f}, ({time} secs)\\n')"
      ],
      "metadata": {
        "execution": {
          "iopub.status.busy": "2024-08-23T10:15:16.090367Z",
          "iopub.execute_input": "2024-08-23T10:15:16.090824Z",
          "iopub.status.idle": "2024-08-23T10:15:16.097247Z",
          "shell.execute_reply.started": "2024-08-23T10:15:16.090782Z",
          "shell.execute_reply": "2024-08-23T10:15:16.095788Z"
        },
        "trusted": true,
        "id": "Hxy2uh-m2pJT"
      },
      "execution_count": null,
      "outputs": []
    },
    {
      "cell_type": "code",
      "source": [
        "Dataset.train_prt_result = dataset_train_prt_result\n",
        "Dataset.test_prt_result = dataset_test_prt_result"
      ],
      "metadata": {
        "execution": {
          "iopub.status.busy": "2024-08-23T10:15:49.662832Z",
          "iopub.execute_input": "2024-08-23T10:15:49.663487Z",
          "iopub.status.idle": "2024-08-23T10:15:49.670888Z",
          "shell.execute_reply.started": "2024-08-23T10:15:49.663425Z",
          "shell.execute_reply": "2024-08-23T10:15:49.668871Z"
        },
        "trusted": true,
        "id": "sxYa46fB2pJT"
      },
      "execution_count": null,
      "outputs": []
    },
    {
      "cell_type": "code",
      "source": [
        "class AbaloneDataset(Dataset):\n",
        "    def __init__(self):\n",
        "        super(AbaloneDataset, self).__init__('abalone', 'regression')\n",
        "\n",
        "        rows, _ = load_csv('/kaggle/input/abalone-dataset')\n",
        "\n",
        "        xs = np.zeros([len(rows), 10])\n",
        "        ys = np.zeros([len(rows), 1])\n",
        "\n",
        "        for n, row in enumerate(rows):\n",
        "            if row[0] == 'I':  xs[n, 0] = 1\n",
        "            if row[0] == 'M':  xs[n, 1] = 1\n",
        "            if row[0] == 'F':  xs[n, 2] = 1\n",
        "            xs[n, 3:] = row[1:-1]\n",
        "            ys[n, :] = row[-1:]\n",
        "\n",
        "        self.shuffle_data(xs, ys, 0.8)\n",
        "\n",
        "    def visualize(self, xs, estimates, answers):\n",
        "        for n in range(len(xs)):\n",
        "            x, est, ans = xs[n], estimates[n], answers[n]\n",
        "            xstr = vector_to_str(x, '%4.2f')\n",
        "            print(f'{xstr} => 추정 {est[0]:4.1f} : 정답 {ans[0]:4.1f}')"
      ],
      "metadata": {
        "execution": {
          "iopub.status.busy": "2024-08-23T10:31:03.954768Z",
          "iopub.execute_input": "2024-08-23T10:31:03.955458Z",
          "iopub.status.idle": "2024-08-23T10:31:03.969754Z",
          "shell.execute_reply.started": "2024-08-23T10:31:03.955405Z",
          "shell.execute_reply": "2024-08-23T10:31:03.968227Z"
        },
        "trusted": true,
        "id": "AUdtoJI42pJT"
      },
      "execution_count": null,
      "outputs": []
    },
    {
      "cell_type": "code",
      "source": [
        "class PulsarDataset(Dataset):\n",
        "    def __init__(self):\n",
        "        super(PulsarDataset, self).__init__('pulsar', 'binary')\n",
        "\n",
        "        rows, _ = load_csv('/kaggle/input/pulsar-classification-for-class-prediction')\n",
        "\n",
        "        data = np.asarray(rows, dtype='float32')\n",
        "        self.shuffle_data(data[:, :-1], data[:, -1:], 0.8)\n",
        "        self.target_names = ['별', '펄서']\n",
        "\n",
        "    def visualize(self, xs, estimates, answers):\n",
        "        for n in range(len(xs)):\n",
        "            x, est, ans = xs[n], estimates[n], answers[n]\n",
        "            xstr = vector_to_str(x, '%5.1f', 3)\n",
        "            estr = self.target_names[int(round(est[0]))]\n",
        "            astr = self.target_names[int(round(ans[0]))]\n",
        "            rstr = '0'\n",
        "            if estr != astr:  rstr = 'X'\n",
        "            print(f'{xstr} => 추정 {estr}(확률 {est[0]:4.2f}) : 정답 {astr} => {rstr}')"
      ],
      "metadata": {
        "execution": {
          "iopub.status.busy": "2024-08-23T10:36:24.746572Z",
          "iopub.execute_input": "2024-08-23T10:36:24.747051Z",
          "iopub.status.idle": "2024-08-23T10:36:24.758924Z",
          "shell.execute_reply.started": "2024-08-23T10:36:24.747007Z",
          "shell.execute_reply": "2024-08-23T10:36:24.757449Z"
        },
        "trusted": true,
        "id": "v7ms9TFl2pJU"
      },
      "execution_count": null,
      "outputs": []
    },
    {
      "cell_type": "code",
      "source": [
        "class SteelDataset(Dataset):\n",
        "    def __init__(self):\n",
        "        super(SteelDataset, self).__init__('steel', 'select')\n",
        "\n",
        "        rows, headers = load_csv('/kaggle/input/faulty-steel-plates')\n",
        "\n",
        "        data = np.asarray(rows, dtype='float32')\n",
        "        self.shuffle_data(data[:, :-7], data[:, -7:], 0.8)\n",
        "\n",
        "        self.target_names = headers[-7:]\n",
        "\n",
        "    def visualize(self, xs, estimates, answers):\n",
        "        show_select_results(estimates, answers, self.target_names)"
      ],
      "metadata": {
        "execution": {
          "iopub.status.busy": "2024-08-23T10:39:15.471883Z",
          "iopub.execute_input": "2024-08-23T10:39:15.47236Z",
          "iopub.status.idle": "2024-08-23T10:39:15.480971Z",
          "shell.execute_reply.started": "2024-08-23T10:39:15.472309Z",
          "shell.execute_reply": "2024-08-23T10:39:15.47972Z"
        },
        "trusted": true,
        "id": "YJoJvVNa2pJU"
      },
      "execution_count": null,
      "outputs": []
    },
    {
      "cell_type": "code",
      "source": [
        "class PulsarSelectDataset(Dataset):\n",
        "    def __init__(self):\n",
        "        super(PulsarSelectDataset, self).__init__('pulsarselect', 'select')\n",
        "\n",
        "        rows, _ = load_csv('/kaggle/input/pulsar-classification-for-class-prediction')\n",
        "\n",
        "        data = np.asarray(rows, dtype='float32')\n",
        "        self.shuffle_data(data[:, :-1], onehot(data[:, -1], 2), 0.8)\n",
        "        self.target_names = ['별', '펄서']\n",
        "\n",
        "    def visualize(self, xs, estimates, answers):\n",
        "        show_select_results(estimates, answers, self.target_names)"
      ],
      "metadata": {
        "execution": {
          "iopub.status.busy": "2024-08-23T10:42:13.631894Z",
          "iopub.execute_input": "2024-08-23T10:42:13.63236Z",
          "iopub.status.idle": "2024-08-23T10:42:13.640993Z",
          "shell.execute_reply.started": "2024-08-23T10:42:13.632308Z",
          "shell.execute_reply": "2024-08-23T10:42:13.639754Z"
        },
        "trusted": true,
        "id": "GlV-oDeH2pJU"
      },
      "execution_count": null,
      "outputs": []
    },
    {
      "cell_type": "code",
      "source": [
        "class FlowersDataset(Dataset):\n",
        "    pass"
      ],
      "metadata": {
        "execution": {
          "iopub.status.busy": "2024-08-23T10:47:53.427701Z",
          "iopub.execute_input": "2024-08-23T10:47:53.428239Z",
          "iopub.status.idle": "2024-08-23T10:47:53.434744Z",
          "shell.execute_reply.started": "2024-08-23T10:47:53.428175Z",
          "shell.execute_reply": "2024-08-23T10:47:53.433261Z"
        },
        "trusted": true,
        "id": "x5A7ULlS2pJU"
      },
      "execution_count": null,
      "outputs": []
    },
    {
      "cell_type": "code",
      "source": [
        "def flowers_init(self, resolution=[100, 100], input_shape=[-1]):\n",
        "    super(FlowersDataset, self).__init__('flowers', 'select')\n",
        "\n",
        "    path = '/kaggle/input/flowers-recognition'\n",
        "    self.target_names = list_dir(path)\n",
        "\n",
        "    images = []\n",
        "    idxs = []\n",
        "\n",
        "    for dx, dname in enumerate(self.target_names):\n",
        "        subpath = path + '/' + dname\n",
        "        filenames = list_dir(subpath)\n",
        "        for fname in filenames:\n",
        "            if fname[-4:] != '.jpg':\n",
        "                continue\n",
        "            imagepath = os.path.join(subpath, fname)\n",
        "            pixels = load_image_pixels(imagepath, resolution, input_shape)\n",
        "            images.append(pixels)\n",
        "            idxs.append(dx)\n",
        "\n",
        "    self.image_shape = resolution + [3]\n",
        "\n",
        "    xs = np.asarray(images, np.float32)\n",
        "    ys = onehot(idxs, len(self.target_names))\n",
        "\n",
        "    self.shuffle_data(xs, ys, 0.8)"
      ],
      "metadata": {
        "execution": {
          "iopub.status.busy": "2024-08-23T10:47:25.629218Z",
          "iopub.execute_input": "2024-08-23T10:47:25.62979Z",
          "iopub.status.idle": "2024-08-23T10:47:25.6431Z",
          "shell.execute_reply.started": "2024-08-23T10:47:25.629735Z",
          "shell.execute_reply": "2024-08-23T10:47:25.641736Z"
        },
        "trusted": true,
        "id": "tV3XVRvp2pJV"
      },
      "execution_count": null,
      "outputs": []
    },
    {
      "cell_type": "code",
      "source": [
        "FlowersDataset.__init__ = flowers_init"
      ],
      "metadata": {
        "execution": {
          "iopub.status.busy": "2024-08-23T10:47:56.178253Z",
          "iopub.execute_input": "2024-08-23T10:47:56.178713Z",
          "iopub.status.idle": "2024-08-23T10:47:56.184824Z",
          "shell.execute_reply.started": "2024-08-23T10:47:56.17867Z",
          "shell.execute_reply": "2024-08-23T10:47:56.183397Z"
        },
        "trusted": true,
        "id": "aAv1dvA52pJV"
      },
      "execution_count": null,
      "outputs": []
    },
    {
      "cell_type": "code",
      "source": [
        "def flowers_visualize(self, xs, estimates, answers):\n",
        "    draw_images_horz(xs, self.image_shape)\n",
        "    show_select_results(estimates, answers, self.target_names)\n",
        "\n",
        "FlowersDataset.visualize = flowers_visualize"
      ],
      "metadata": {
        "execution": {
          "iopub.status.busy": "2024-08-23T10:48:09.091378Z",
          "iopub.execute_input": "2024-08-23T10:48:09.091806Z",
          "iopub.status.idle": "2024-08-23T10:48:09.098326Z",
          "shell.execute_reply.started": "2024-08-23T10:48:09.091766Z",
          "shell.execute_reply": "2024-08-23T10:48:09.096751Z"
        },
        "trusted": true,
        "id": "1u1A2A_s2pJV"
      },
      "execution_count": null,
      "outputs": []
    }
  ]
}